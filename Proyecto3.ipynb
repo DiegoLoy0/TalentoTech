{
  "nbformat": 4,
  "nbformat_minor": 0,
  "metadata": {
    "colab": {
      "provenance": []
    },
    "kernelspec": {
      "name": "python3",
      "display_name": "Python 3"
    },
    "language_info": {
      "name": "python"
    },
    "widgets": {
      "application/vnd.jupyter.widget-state+json": {
        "15ced72ea2d84dde9db028e171233848": {
          "model_module": "@jupyter-widgets/controls",
          "model_name": "DropdownModel",
          "model_module_version": "1.5.0",
          "state": {
            "_dom_classes": [],
            "_model_module": "@jupyter-widgets/controls",
            "_model_module_version": "1.5.0",
            "_model_name": "DropdownModel",
            "_options_labels": [
              "Arsenal",
              "Aston Villa",
              "Birmingham",
              "Blackburn",
              "Blackpool",
              "Bolton",
              "Bournemouth",
              "Bradford",
              "Brentford",
              "Brighton",
              "Burnley",
              "Cardiff",
              "Charlton",
              "Chelsea",
              "Coventry",
              "Crystal Palace",
              "Derby",
              "Everton",
              "Fulham",
              "Huddersfield",
              "Hull",
              "Ipswich",
              "Leeds",
              "Leicester",
              "Liverpool",
              "Luton",
              "Man City",
              "Man United",
              "Middlesbrough",
              "Newcastle",
              "Norwich",
              "Nott'm Forest",
              "Portsmouth",
              "QPR",
              "Reading",
              "Sheffield United",
              "Southampton",
              "Stoke",
              "Sunderland",
              "Swansea",
              "Tottenham",
              "Watford",
              "West Brom",
              "West Ham",
              "Wigan",
              "Wolves"
            ],
            "_view_count": null,
            "_view_module": "@jupyter-widgets/controls",
            "_view_module_version": "1.5.0",
            "_view_name": "DropdownView",
            "description": "Local:",
            "description_tooltip": null,
            "disabled": false,
            "index": 0,
            "layout": "IPY_MODEL_10e4577aba934b9582e14c59efc3e59a",
            "style": "IPY_MODEL_0d854b0e73d84f1a8859863d9d683ff2"
          }
        },
        "10e4577aba934b9582e14c59efc3e59a": {
          "model_module": "@jupyter-widgets/base",
          "model_name": "LayoutModel",
          "model_module_version": "1.2.0",
          "state": {
            "_model_module": "@jupyter-widgets/base",
            "_model_module_version": "1.2.0",
            "_model_name": "LayoutModel",
            "_view_count": null,
            "_view_module": "@jupyter-widgets/base",
            "_view_module_version": "1.2.0",
            "_view_name": "LayoutView",
            "align_content": null,
            "align_items": null,
            "align_self": null,
            "border": null,
            "bottom": null,
            "display": null,
            "flex": null,
            "flex_flow": null,
            "grid_area": null,
            "grid_auto_columns": null,
            "grid_auto_flow": null,
            "grid_auto_rows": null,
            "grid_column": null,
            "grid_gap": null,
            "grid_row": null,
            "grid_template_areas": null,
            "grid_template_columns": null,
            "grid_template_rows": null,
            "height": null,
            "justify_content": null,
            "justify_items": null,
            "left": null,
            "margin": null,
            "max_height": null,
            "max_width": null,
            "min_height": null,
            "min_width": null,
            "object_fit": null,
            "object_position": null,
            "order": null,
            "overflow": null,
            "overflow_x": null,
            "overflow_y": null,
            "padding": null,
            "right": null,
            "top": null,
            "visibility": null,
            "width": null
          }
        },
        "0d854b0e73d84f1a8859863d9d683ff2": {
          "model_module": "@jupyter-widgets/controls",
          "model_name": "DescriptionStyleModel",
          "model_module_version": "1.5.0",
          "state": {
            "_model_module": "@jupyter-widgets/controls",
            "_model_module_version": "1.5.0",
            "_model_name": "DescriptionStyleModel",
            "_view_count": null,
            "_view_module": "@jupyter-widgets/base",
            "_view_module_version": "1.2.0",
            "_view_name": "StyleView",
            "description_width": ""
          }
        },
        "b00e159dbb2644cba022b43bd6a97369": {
          "model_module": "@jupyter-widgets/controls",
          "model_name": "DropdownModel",
          "model_module_version": "1.5.0",
          "state": {
            "_dom_classes": [],
            "_model_module": "@jupyter-widgets/controls",
            "_model_module_version": "1.5.0",
            "_model_name": "DropdownModel",
            "_options_labels": [
              "Arsenal",
              "Aston Villa",
              "Birmingham",
              "Blackburn",
              "Blackpool",
              "Bolton",
              "Bournemouth",
              "Bradford",
              "Brentford",
              "Brighton",
              "Burnley",
              "Cardiff",
              "Charlton",
              "Chelsea",
              "Coventry",
              "Crystal Palace",
              "Derby",
              "Everton",
              "Fulham",
              "Huddersfield",
              "Hull",
              "Ipswich",
              "Leeds",
              "Leicester",
              "Liverpool",
              "Luton",
              "Man City",
              "Man United",
              "Middlesbrough",
              "Newcastle",
              "Norwich",
              "Nott'm Forest",
              "Portsmouth",
              "QPR",
              "Reading",
              "Sheffield United",
              "Southampton",
              "Stoke",
              "Sunderland",
              "Swansea",
              "Tottenham",
              "Watford",
              "West Brom",
              "West Ham",
              "Wigan",
              "Wolves"
            ],
            "_view_count": null,
            "_view_module": "@jupyter-widgets/controls",
            "_view_module_version": "1.5.0",
            "_view_name": "DropdownView",
            "description": "Visitante:",
            "description_tooltip": null,
            "disabled": false,
            "index": 0,
            "layout": "IPY_MODEL_cad1d0cd17a04ee8862eb795a9c935e8",
            "style": "IPY_MODEL_ccedb07dcf0747f6bdcb5759a5a3ad9d"
          }
        },
        "cad1d0cd17a04ee8862eb795a9c935e8": {
          "model_module": "@jupyter-widgets/base",
          "model_name": "LayoutModel",
          "model_module_version": "1.2.0",
          "state": {
            "_model_module": "@jupyter-widgets/base",
            "_model_module_version": "1.2.0",
            "_model_name": "LayoutModel",
            "_view_count": null,
            "_view_module": "@jupyter-widgets/base",
            "_view_module_version": "1.2.0",
            "_view_name": "LayoutView",
            "align_content": null,
            "align_items": null,
            "align_self": null,
            "border": null,
            "bottom": null,
            "display": null,
            "flex": null,
            "flex_flow": null,
            "grid_area": null,
            "grid_auto_columns": null,
            "grid_auto_flow": null,
            "grid_auto_rows": null,
            "grid_column": null,
            "grid_gap": null,
            "grid_row": null,
            "grid_template_areas": null,
            "grid_template_columns": null,
            "grid_template_rows": null,
            "height": null,
            "justify_content": null,
            "justify_items": null,
            "left": null,
            "margin": null,
            "max_height": null,
            "max_width": null,
            "min_height": null,
            "min_width": null,
            "object_fit": null,
            "object_position": null,
            "order": null,
            "overflow": null,
            "overflow_x": null,
            "overflow_y": null,
            "padding": null,
            "right": null,
            "top": null,
            "visibility": null,
            "width": null
          }
        },
        "ccedb07dcf0747f6bdcb5759a5a3ad9d": {
          "model_module": "@jupyter-widgets/controls",
          "model_name": "DescriptionStyleModel",
          "model_module_version": "1.5.0",
          "state": {
            "_model_module": "@jupyter-widgets/controls",
            "_model_module_version": "1.5.0",
            "_model_name": "DescriptionStyleModel",
            "_view_count": null,
            "_view_module": "@jupyter-widgets/base",
            "_view_module_version": "1.2.0",
            "_view_name": "StyleView",
            "description_width": ""
          }
        },
        "d6df973f24d84985b0986bd5026a21ca": {
          "model_module": "@jupyter-widgets/controls",
          "model_name": "ButtonModel",
          "model_module_version": "1.5.0",
          "state": {
            "_dom_classes": [],
            "_model_module": "@jupyter-widgets/controls",
            "_model_module_version": "1.5.0",
            "_model_name": "ButtonModel",
            "_view_count": null,
            "_view_module": "@jupyter-widgets/controls",
            "_view_module_version": "1.5.0",
            "_view_name": "ButtonView",
            "button_style": "",
            "description": "Predecir Resultado",
            "disabled": false,
            "icon": "",
            "layout": "IPY_MODEL_fab0a97a6c3c4cb6adf134f2e7d19a91",
            "style": "IPY_MODEL_98159dac28cf46369fda8fad190b8ed4",
            "tooltip": ""
          }
        },
        "fab0a97a6c3c4cb6adf134f2e7d19a91": {
          "model_module": "@jupyter-widgets/base",
          "model_name": "LayoutModel",
          "model_module_version": "1.2.0",
          "state": {
            "_model_module": "@jupyter-widgets/base",
            "_model_module_version": "1.2.0",
            "_model_name": "LayoutModel",
            "_view_count": null,
            "_view_module": "@jupyter-widgets/base",
            "_view_module_version": "1.2.0",
            "_view_name": "LayoutView",
            "align_content": null,
            "align_items": null,
            "align_self": null,
            "border": null,
            "bottom": null,
            "display": null,
            "flex": null,
            "flex_flow": null,
            "grid_area": null,
            "grid_auto_columns": null,
            "grid_auto_flow": null,
            "grid_auto_rows": null,
            "grid_column": null,
            "grid_gap": null,
            "grid_row": null,
            "grid_template_areas": null,
            "grid_template_columns": null,
            "grid_template_rows": null,
            "height": null,
            "justify_content": null,
            "justify_items": null,
            "left": null,
            "margin": null,
            "max_height": null,
            "max_width": null,
            "min_height": null,
            "min_width": null,
            "object_fit": null,
            "object_position": null,
            "order": null,
            "overflow": null,
            "overflow_x": null,
            "overflow_y": null,
            "padding": null,
            "right": null,
            "top": null,
            "visibility": null,
            "width": null
          }
        },
        "98159dac28cf46369fda8fad190b8ed4": {
          "model_module": "@jupyter-widgets/controls",
          "model_name": "ButtonStyleModel",
          "model_module_version": "1.5.0",
          "state": {
            "_model_module": "@jupyter-widgets/controls",
            "_model_module_version": "1.5.0",
            "_model_name": "ButtonStyleModel",
            "_view_count": null,
            "_view_module": "@jupyter-widgets/base",
            "_view_module_version": "1.2.0",
            "_view_name": "StyleView",
            "button_color": null,
            "font_weight": ""
          }
        },
        "f6ea1923b6fd4a64a2cb47a0da7aa9b9": {
          "model_module": "@jupyter-widgets/output",
          "model_name": "OutputModel",
          "model_module_version": "1.0.0",
          "state": {
            "_dom_classes": [],
            "_model_module": "@jupyter-widgets/output",
            "_model_module_version": "1.0.0",
            "_model_name": "OutputModel",
            "_view_count": null,
            "_view_module": "@jupyter-widgets/output",
            "_view_module_version": "1.0.0",
            "_view_name": "OutputView",
            "layout": "IPY_MODEL_ab65c20183b64c188341a38536d93d5e",
            "msg_id": "",
            "outputs": []
          }
        },
        "ab65c20183b64c188341a38536d93d5e": {
          "model_module": "@jupyter-widgets/base",
          "model_name": "LayoutModel",
          "model_module_version": "1.2.0",
          "state": {
            "_model_module": "@jupyter-widgets/base",
            "_model_module_version": "1.2.0",
            "_model_name": "LayoutModel",
            "_view_count": null,
            "_view_module": "@jupyter-widgets/base",
            "_view_module_version": "1.2.0",
            "_view_name": "LayoutView",
            "align_content": null,
            "align_items": null,
            "align_self": null,
            "border": null,
            "bottom": null,
            "display": null,
            "flex": null,
            "flex_flow": null,
            "grid_area": null,
            "grid_auto_columns": null,
            "grid_auto_flow": null,
            "grid_auto_rows": null,
            "grid_column": null,
            "grid_gap": null,
            "grid_row": null,
            "grid_template_areas": null,
            "grid_template_columns": null,
            "grid_template_rows": null,
            "height": null,
            "justify_content": null,
            "justify_items": null,
            "left": null,
            "margin": null,
            "max_height": null,
            "max_width": null,
            "min_height": null,
            "min_width": null,
            "object_fit": null,
            "object_position": null,
            "order": null,
            "overflow": null,
            "overflow_x": null,
            "overflow_y": null,
            "padding": null,
            "right": null,
            "top": null,
            "visibility": null,
            "width": null
          }
        },
        "3603b996c4a54052bf671fe0d8a6947f": {
          "model_module": "@jupyter-widgets/controls",
          "model_name": "DropdownModel",
          "model_module_version": "1.5.0",
          "state": {
            "_dom_classes": [],
            "_model_module": "@jupyter-widgets/controls",
            "_model_module_version": "1.5.0",
            "_model_name": "DropdownModel",
            "_options_labels": [
              "Arsenal",
              "Aston Villa",
              "Birmingham",
              "Blackburn",
              "Blackpool",
              "Bolton",
              "Bournemouth",
              "Bradford",
              "Brentford",
              "Brighton",
              "Burnley",
              "Cardiff",
              "Charlton",
              "Chelsea",
              "Coventry",
              "Crystal Palace",
              "Derby",
              "Everton",
              "Fulham",
              "Huddersfield",
              "Hull",
              "Ipswich",
              "Leeds",
              "Leicester",
              "Liverpool",
              "Luton",
              "Man City",
              "Man United",
              "Middlesbrough",
              "Newcastle",
              "Norwich",
              "Nott'm Forest",
              "Portsmouth",
              "QPR",
              "Reading",
              "Sheffield United",
              "Southampton",
              "Stoke",
              "Sunderland",
              "Swansea",
              "Tottenham",
              "Watford",
              "West Brom",
              "West Ham",
              "Wigan",
              "Wolves"
            ],
            "_view_count": null,
            "_view_module": "@jupyter-widgets/controls",
            "_view_module_version": "1.5.0",
            "_view_name": "DropdownView",
            "description": "Local:",
            "description_tooltip": null,
            "disabled": false,
            "index": 24,
            "layout": "IPY_MODEL_2c0822f5c1aa4f66950986bcfcfe715c",
            "style": "IPY_MODEL_6bd4d9ea39c341aa853ec86cd6025158"
          }
        },
        "2c0822f5c1aa4f66950986bcfcfe715c": {
          "model_module": "@jupyter-widgets/base",
          "model_name": "LayoutModel",
          "model_module_version": "1.2.0",
          "state": {
            "_model_module": "@jupyter-widgets/base",
            "_model_module_version": "1.2.0",
            "_model_name": "LayoutModel",
            "_view_count": null,
            "_view_module": "@jupyter-widgets/base",
            "_view_module_version": "1.2.0",
            "_view_name": "LayoutView",
            "align_content": null,
            "align_items": null,
            "align_self": null,
            "border": null,
            "bottom": null,
            "display": null,
            "flex": null,
            "flex_flow": null,
            "grid_area": null,
            "grid_auto_columns": null,
            "grid_auto_flow": null,
            "grid_auto_rows": null,
            "grid_column": null,
            "grid_gap": null,
            "grid_row": null,
            "grid_template_areas": null,
            "grid_template_columns": null,
            "grid_template_rows": null,
            "height": null,
            "justify_content": null,
            "justify_items": null,
            "left": null,
            "margin": null,
            "max_height": null,
            "max_width": null,
            "min_height": null,
            "min_width": null,
            "object_fit": null,
            "object_position": null,
            "order": null,
            "overflow": null,
            "overflow_x": null,
            "overflow_y": null,
            "padding": null,
            "right": null,
            "top": null,
            "visibility": null,
            "width": null
          }
        },
        "6bd4d9ea39c341aa853ec86cd6025158": {
          "model_module": "@jupyter-widgets/controls",
          "model_name": "DescriptionStyleModel",
          "model_module_version": "1.5.0",
          "state": {
            "_model_module": "@jupyter-widgets/controls",
            "_model_module_version": "1.5.0",
            "_model_name": "DescriptionStyleModel",
            "_view_count": null,
            "_view_module": "@jupyter-widgets/base",
            "_view_module_version": "1.2.0",
            "_view_name": "StyleView",
            "description_width": ""
          }
        },
        "8c7b14879cb849e68baca1739b4454c0": {
          "model_module": "@jupyter-widgets/controls",
          "model_name": "DropdownModel",
          "model_module_version": "1.5.0",
          "state": {
            "_dom_classes": [],
            "_model_module": "@jupyter-widgets/controls",
            "_model_module_version": "1.5.0",
            "_model_name": "DropdownModel",
            "_options_labels": [
              "Arsenal",
              "Aston Villa",
              "Birmingham",
              "Blackburn",
              "Blackpool",
              "Bolton",
              "Bournemouth",
              "Bradford",
              "Brentford",
              "Brighton",
              "Burnley",
              "Cardiff",
              "Charlton",
              "Chelsea",
              "Coventry",
              "Crystal Palace",
              "Derby",
              "Everton",
              "Fulham",
              "Huddersfield",
              "Hull",
              "Ipswich",
              "Leeds",
              "Leicester",
              "Liverpool",
              "Luton",
              "Man City",
              "Man United",
              "Middlesbrough",
              "Newcastle",
              "Norwich",
              "Nott'm Forest",
              "Portsmouth",
              "QPR",
              "Reading",
              "Sheffield United",
              "Southampton",
              "Stoke",
              "Sunderland",
              "Swansea",
              "Tottenham",
              "Watford",
              "West Brom",
              "West Ham",
              "Wigan",
              "Wolves"
            ],
            "_view_count": null,
            "_view_module": "@jupyter-widgets/controls",
            "_view_module_version": "1.5.0",
            "_view_name": "DropdownView",
            "description": "Visitante:",
            "description_tooltip": null,
            "disabled": false,
            "index": 13,
            "layout": "IPY_MODEL_32f20ec5e86c4a488ad619c5c2883e6b",
            "style": "IPY_MODEL_b441c552cf024126aeeb8fbfe481607f"
          }
        },
        "32f20ec5e86c4a488ad619c5c2883e6b": {
          "model_module": "@jupyter-widgets/base",
          "model_name": "LayoutModel",
          "model_module_version": "1.2.0",
          "state": {
            "_model_module": "@jupyter-widgets/base",
            "_model_module_version": "1.2.0",
            "_model_name": "LayoutModel",
            "_view_count": null,
            "_view_module": "@jupyter-widgets/base",
            "_view_module_version": "1.2.0",
            "_view_name": "LayoutView",
            "align_content": null,
            "align_items": null,
            "align_self": null,
            "border": null,
            "bottom": null,
            "display": null,
            "flex": null,
            "flex_flow": null,
            "grid_area": null,
            "grid_auto_columns": null,
            "grid_auto_flow": null,
            "grid_auto_rows": null,
            "grid_column": null,
            "grid_gap": null,
            "grid_row": null,
            "grid_template_areas": null,
            "grid_template_columns": null,
            "grid_template_rows": null,
            "height": null,
            "justify_content": null,
            "justify_items": null,
            "left": null,
            "margin": null,
            "max_height": null,
            "max_width": null,
            "min_height": null,
            "min_width": null,
            "object_fit": null,
            "object_position": null,
            "order": null,
            "overflow": null,
            "overflow_x": null,
            "overflow_y": null,
            "padding": null,
            "right": null,
            "top": null,
            "visibility": null,
            "width": null
          }
        },
        "b441c552cf024126aeeb8fbfe481607f": {
          "model_module": "@jupyter-widgets/controls",
          "model_name": "DescriptionStyleModel",
          "model_module_version": "1.5.0",
          "state": {
            "_model_module": "@jupyter-widgets/controls",
            "_model_module_version": "1.5.0",
            "_model_name": "DescriptionStyleModel",
            "_view_count": null,
            "_view_module": "@jupyter-widgets/base",
            "_view_module_version": "1.2.0",
            "_view_name": "StyleView",
            "description_width": ""
          }
        },
        "a3e580767cd84526b53c58e3dc6c14f1": {
          "model_module": "@jupyter-widgets/controls",
          "model_name": "DropdownModel",
          "model_module_version": "1.5.0",
          "state": {
            "_dom_classes": [],
            "_model_module": "@jupyter-widgets/controls",
            "_model_module_version": "1.5.0",
            "_model_name": "DropdownModel",
            "_options_labels": [
              "Random Forest",
              "Regresión Logística"
            ],
            "_view_count": null,
            "_view_module": "@jupyter-widgets/controls",
            "_view_module_version": "1.5.0",
            "_view_name": "DropdownView",
            "description": "Modelo:",
            "description_tooltip": null,
            "disabled": false,
            "index": 1,
            "layout": "IPY_MODEL_c13d09c78dbf4cbcb695463ff46d7e84",
            "style": "IPY_MODEL_48e0c8fab7a94aaf9f5c7f695e80ede5"
          }
        },
        "c13d09c78dbf4cbcb695463ff46d7e84": {
          "model_module": "@jupyter-widgets/base",
          "model_name": "LayoutModel",
          "model_module_version": "1.2.0",
          "state": {
            "_model_module": "@jupyter-widgets/base",
            "_model_module_version": "1.2.0",
            "_model_name": "LayoutModel",
            "_view_count": null,
            "_view_module": "@jupyter-widgets/base",
            "_view_module_version": "1.2.0",
            "_view_name": "LayoutView",
            "align_content": null,
            "align_items": null,
            "align_self": null,
            "border": null,
            "bottom": null,
            "display": null,
            "flex": null,
            "flex_flow": null,
            "grid_area": null,
            "grid_auto_columns": null,
            "grid_auto_flow": null,
            "grid_auto_rows": null,
            "grid_column": null,
            "grid_gap": null,
            "grid_row": null,
            "grid_template_areas": null,
            "grid_template_columns": null,
            "grid_template_rows": null,
            "height": null,
            "justify_content": null,
            "justify_items": null,
            "left": null,
            "margin": null,
            "max_height": null,
            "max_width": null,
            "min_height": null,
            "min_width": null,
            "object_fit": null,
            "object_position": null,
            "order": null,
            "overflow": null,
            "overflow_x": null,
            "overflow_y": null,
            "padding": null,
            "right": null,
            "top": null,
            "visibility": null,
            "width": null
          }
        },
        "48e0c8fab7a94aaf9f5c7f695e80ede5": {
          "model_module": "@jupyter-widgets/controls",
          "model_name": "DescriptionStyleModel",
          "model_module_version": "1.5.0",
          "state": {
            "_model_module": "@jupyter-widgets/controls",
            "_model_module_version": "1.5.0",
            "_model_name": "DescriptionStyleModel",
            "_view_count": null,
            "_view_module": "@jupyter-widgets/base",
            "_view_module_version": "1.2.0",
            "_view_name": "StyleView",
            "description_width": ""
          }
        },
        "973a7c48b25349f887c627eb88fa2eaf": {
          "model_module": "@jupyter-widgets/controls",
          "model_name": "ButtonModel",
          "model_module_version": "1.5.0",
          "state": {
            "_dom_classes": [],
            "_model_module": "@jupyter-widgets/controls",
            "_model_module_version": "1.5.0",
            "_model_name": "ButtonModel",
            "_view_count": null,
            "_view_module": "@jupyter-widgets/controls",
            "_view_module_version": "1.5.0",
            "_view_name": "ButtonView",
            "button_style": "",
            "description": "Predecir Resultado",
            "disabled": false,
            "icon": "",
            "layout": "IPY_MODEL_668cc394413e4b09bbd09d42706f09f5",
            "style": "IPY_MODEL_7dfc0da8db78414799f110d898aa785c",
            "tooltip": ""
          }
        },
        "668cc394413e4b09bbd09d42706f09f5": {
          "model_module": "@jupyter-widgets/base",
          "model_name": "LayoutModel",
          "model_module_version": "1.2.0",
          "state": {
            "_model_module": "@jupyter-widgets/base",
            "_model_module_version": "1.2.0",
            "_model_name": "LayoutModel",
            "_view_count": null,
            "_view_module": "@jupyter-widgets/base",
            "_view_module_version": "1.2.0",
            "_view_name": "LayoutView",
            "align_content": null,
            "align_items": null,
            "align_self": null,
            "border": null,
            "bottom": null,
            "display": null,
            "flex": null,
            "flex_flow": null,
            "grid_area": null,
            "grid_auto_columns": null,
            "grid_auto_flow": null,
            "grid_auto_rows": null,
            "grid_column": null,
            "grid_gap": null,
            "grid_row": null,
            "grid_template_areas": null,
            "grid_template_columns": null,
            "grid_template_rows": null,
            "height": null,
            "justify_content": null,
            "justify_items": null,
            "left": null,
            "margin": null,
            "max_height": null,
            "max_width": null,
            "min_height": null,
            "min_width": null,
            "object_fit": null,
            "object_position": null,
            "order": null,
            "overflow": null,
            "overflow_x": null,
            "overflow_y": null,
            "padding": null,
            "right": null,
            "top": null,
            "visibility": null,
            "width": null
          }
        },
        "7dfc0da8db78414799f110d898aa785c": {
          "model_module": "@jupyter-widgets/controls",
          "model_name": "ButtonStyleModel",
          "model_module_version": "1.5.0",
          "state": {
            "_model_module": "@jupyter-widgets/controls",
            "_model_module_version": "1.5.0",
            "_model_name": "ButtonStyleModel",
            "_view_count": null,
            "_view_module": "@jupyter-widgets/base",
            "_view_module_version": "1.2.0",
            "_view_name": "StyleView",
            "button_color": null,
            "font_weight": ""
          }
        },
        "573d692832e945be9d906d19a885e2a4": {
          "model_module": "@jupyter-widgets/output",
          "model_name": "OutputModel",
          "model_module_version": "1.0.0",
          "state": {
            "_dom_classes": [],
            "_model_module": "@jupyter-widgets/output",
            "_model_module_version": "1.0.0",
            "_model_name": "OutputModel",
            "_view_count": null,
            "_view_module": "@jupyter-widgets/output",
            "_view_module_version": "1.0.0",
            "_view_name": "OutputView",
            "layout": "IPY_MODEL_9188c168bc1449718ce7aadac7b052c5",
            "msg_id": "",
            "outputs": [
              {
                "output_type": "stream",
                "name": "stdout",
                "text": [
                  "Resultado predicho (Regresión Logística): Empate\n"
                ]
              }
            ]
          }
        },
        "9188c168bc1449718ce7aadac7b052c5": {
          "model_module": "@jupyter-widgets/base",
          "model_name": "LayoutModel",
          "model_module_version": "1.2.0",
          "state": {
            "_model_module": "@jupyter-widgets/base",
            "_model_module_version": "1.2.0",
            "_model_name": "LayoutModel",
            "_view_count": null,
            "_view_module": "@jupyter-widgets/base",
            "_view_module_version": "1.2.0",
            "_view_name": "LayoutView",
            "align_content": null,
            "align_items": null,
            "align_self": null,
            "border": null,
            "bottom": null,
            "display": null,
            "flex": null,
            "flex_flow": null,
            "grid_area": null,
            "grid_auto_columns": null,
            "grid_auto_flow": null,
            "grid_auto_rows": null,
            "grid_column": null,
            "grid_gap": null,
            "grid_row": null,
            "grid_template_areas": null,
            "grid_template_columns": null,
            "grid_template_rows": null,
            "height": null,
            "justify_content": null,
            "justify_items": null,
            "left": null,
            "margin": null,
            "max_height": null,
            "max_width": null,
            "min_height": null,
            "min_width": null,
            "object_fit": null,
            "object_position": null,
            "order": null,
            "overflow": null,
            "overflow_x": null,
            "overflow_y": null,
            "padding": null,
            "right": null,
            "top": null,
            "visibility": null,
            "width": null
          }
        },
        "5046bd5c38e74f8a96a4838d7bd32603": {
          "model_module": "@jupyter-widgets/controls",
          "model_name": "DropdownModel",
          "model_module_version": "1.5.0",
          "state": {
            "_dom_classes": [],
            "_model_module": "@jupyter-widgets/controls",
            "_model_module_version": "1.5.0",
            "_model_name": "DropdownModel",
            "_options_labels": [
              "Arsenal",
              "Aston Villa",
              "Birmingham",
              "Blackburn",
              "Blackpool",
              "Bolton",
              "Bournemouth",
              "Bradford",
              "Brentford",
              "Brighton",
              "Burnley",
              "Cardiff",
              "Charlton",
              "Chelsea",
              "Coventry",
              "Crystal Palace",
              "Derby",
              "Everton",
              "Fulham",
              "Huddersfield",
              "Hull",
              "Ipswich",
              "Leeds",
              "Leicester",
              "Liverpool",
              "Luton",
              "Man City",
              "Man United",
              "Middlesbrough",
              "Newcastle",
              "Norwich",
              "Nott'm Forest",
              "Portsmouth",
              "QPR",
              "Reading",
              "Sheffield United",
              "Southampton",
              "Stoke",
              "Sunderland",
              "Swansea",
              "Tottenham",
              "Watford",
              "West Brom",
              "West Ham",
              "Wigan",
              "Wolves"
            ],
            "_view_count": null,
            "_view_module": "@jupyter-widgets/controls",
            "_view_module_version": "1.5.0",
            "_view_name": "DropdownView",
            "description": "Local:",
            "description_tooltip": null,
            "disabled": false,
            "index": 11,
            "layout": "IPY_MODEL_912680c7d35d400face87004b6f72b20",
            "style": "IPY_MODEL_086ec5f691734a8aa533f2bcd2039612"
          }
        },
        "912680c7d35d400face87004b6f72b20": {
          "model_module": "@jupyter-widgets/base",
          "model_name": "LayoutModel",
          "model_module_version": "1.2.0",
          "state": {
            "_model_module": "@jupyter-widgets/base",
            "_model_module_version": "1.2.0",
            "_model_name": "LayoutModel",
            "_view_count": null,
            "_view_module": "@jupyter-widgets/base",
            "_view_module_version": "1.2.0",
            "_view_name": "LayoutView",
            "align_content": null,
            "align_items": null,
            "align_self": null,
            "border": null,
            "bottom": null,
            "display": null,
            "flex": null,
            "flex_flow": null,
            "grid_area": null,
            "grid_auto_columns": null,
            "grid_auto_flow": null,
            "grid_auto_rows": null,
            "grid_column": null,
            "grid_gap": null,
            "grid_row": null,
            "grid_template_areas": null,
            "grid_template_columns": null,
            "grid_template_rows": null,
            "height": null,
            "justify_content": null,
            "justify_items": null,
            "left": null,
            "margin": null,
            "max_height": null,
            "max_width": null,
            "min_height": null,
            "min_width": null,
            "object_fit": null,
            "object_position": null,
            "order": null,
            "overflow": null,
            "overflow_x": null,
            "overflow_y": null,
            "padding": null,
            "right": null,
            "top": null,
            "visibility": null,
            "width": null
          }
        },
        "086ec5f691734a8aa533f2bcd2039612": {
          "model_module": "@jupyter-widgets/controls",
          "model_name": "DescriptionStyleModel",
          "model_module_version": "1.5.0",
          "state": {
            "_model_module": "@jupyter-widgets/controls",
            "_model_module_version": "1.5.0",
            "_model_name": "DescriptionStyleModel",
            "_view_count": null,
            "_view_module": "@jupyter-widgets/base",
            "_view_module_version": "1.2.0",
            "_view_name": "StyleView",
            "description_width": ""
          }
        },
        "86a0e3bb69bb4c55a18de4c8181b7e6d": {
          "model_module": "@jupyter-widgets/controls",
          "model_name": "DropdownModel",
          "model_module_version": "1.5.0",
          "state": {
            "_dom_classes": [],
            "_model_module": "@jupyter-widgets/controls",
            "_model_module_version": "1.5.0",
            "_model_name": "DropdownModel",
            "_options_labels": [
              "Arsenal",
              "Aston Villa",
              "Birmingham",
              "Blackburn",
              "Blackpool",
              "Bolton",
              "Bournemouth",
              "Bradford",
              "Brentford",
              "Brighton",
              "Burnley",
              "Cardiff",
              "Charlton",
              "Chelsea",
              "Coventry",
              "Crystal Palace",
              "Derby",
              "Everton",
              "Fulham",
              "Huddersfield",
              "Hull",
              "Ipswich",
              "Leeds",
              "Leicester",
              "Liverpool",
              "Luton",
              "Man City",
              "Man United",
              "Middlesbrough",
              "Newcastle",
              "Norwich",
              "Nott'm Forest",
              "Portsmouth",
              "QPR",
              "Reading",
              "Sheffield United",
              "Southampton",
              "Stoke",
              "Sunderland",
              "Swansea",
              "Tottenham",
              "Watford",
              "West Brom",
              "West Ham",
              "Wigan",
              "Wolves"
            ],
            "_view_count": null,
            "_view_module": "@jupyter-widgets/controls",
            "_view_module_version": "1.5.0",
            "_view_name": "DropdownView",
            "description": "Visitante:",
            "description_tooltip": null,
            "disabled": false,
            "index": 42,
            "layout": "IPY_MODEL_040730d2832a4a5e8fc3f2a32470dd22",
            "style": "IPY_MODEL_e061f6a21ed14963b7a8459f998e04f9"
          }
        },
        "040730d2832a4a5e8fc3f2a32470dd22": {
          "model_module": "@jupyter-widgets/base",
          "model_name": "LayoutModel",
          "model_module_version": "1.2.0",
          "state": {
            "_model_module": "@jupyter-widgets/base",
            "_model_module_version": "1.2.0",
            "_model_name": "LayoutModel",
            "_view_count": null,
            "_view_module": "@jupyter-widgets/base",
            "_view_module_version": "1.2.0",
            "_view_name": "LayoutView",
            "align_content": null,
            "align_items": null,
            "align_self": null,
            "border": null,
            "bottom": null,
            "display": null,
            "flex": null,
            "flex_flow": null,
            "grid_area": null,
            "grid_auto_columns": null,
            "grid_auto_flow": null,
            "grid_auto_rows": null,
            "grid_column": null,
            "grid_gap": null,
            "grid_row": null,
            "grid_template_areas": null,
            "grid_template_columns": null,
            "grid_template_rows": null,
            "height": null,
            "justify_content": null,
            "justify_items": null,
            "left": null,
            "margin": null,
            "max_height": null,
            "max_width": null,
            "min_height": null,
            "min_width": null,
            "object_fit": null,
            "object_position": null,
            "order": null,
            "overflow": null,
            "overflow_x": null,
            "overflow_y": null,
            "padding": null,
            "right": null,
            "top": null,
            "visibility": null,
            "width": null
          }
        },
        "e061f6a21ed14963b7a8459f998e04f9": {
          "model_module": "@jupyter-widgets/controls",
          "model_name": "DescriptionStyleModel",
          "model_module_version": "1.5.0",
          "state": {
            "_model_module": "@jupyter-widgets/controls",
            "_model_module_version": "1.5.0",
            "_model_name": "DescriptionStyleModel",
            "_view_count": null,
            "_view_module": "@jupyter-widgets/base",
            "_view_module_version": "1.2.0",
            "_view_name": "StyleView",
            "description_width": ""
          }
        },
        "b7787c49c7b14a6f9319a417d6dcea37": {
          "model_module": "@jupyter-widgets/controls",
          "model_name": "DropdownModel",
          "model_module_version": "1.5.0",
          "state": {
            "_dom_classes": [],
            "_model_module": "@jupyter-widgets/controls",
            "_model_module_version": "1.5.0",
            "_model_name": "DropdownModel",
            "_options_labels": [
              "Random Forest",
              "XGBoost",
              "Regresión Logística"
            ],
            "_view_count": null,
            "_view_module": "@jupyter-widgets/controls",
            "_view_module_version": "1.5.0",
            "_view_name": "DropdownView",
            "description": "Modelo:",
            "description_tooltip": null,
            "disabled": false,
            "index": 2,
            "layout": "IPY_MODEL_65e46b0287824092972a642f4fb65d75",
            "style": "IPY_MODEL_88c3c3c50ed1408483e2159a4e2934a3"
          }
        },
        "65e46b0287824092972a642f4fb65d75": {
          "model_module": "@jupyter-widgets/base",
          "model_name": "LayoutModel",
          "model_module_version": "1.2.0",
          "state": {
            "_model_module": "@jupyter-widgets/base",
            "_model_module_version": "1.2.0",
            "_model_name": "LayoutModel",
            "_view_count": null,
            "_view_module": "@jupyter-widgets/base",
            "_view_module_version": "1.2.0",
            "_view_name": "LayoutView",
            "align_content": null,
            "align_items": null,
            "align_self": null,
            "border": null,
            "bottom": null,
            "display": null,
            "flex": null,
            "flex_flow": null,
            "grid_area": null,
            "grid_auto_columns": null,
            "grid_auto_flow": null,
            "grid_auto_rows": null,
            "grid_column": null,
            "grid_gap": null,
            "grid_row": null,
            "grid_template_areas": null,
            "grid_template_columns": null,
            "grid_template_rows": null,
            "height": null,
            "justify_content": null,
            "justify_items": null,
            "left": null,
            "margin": null,
            "max_height": null,
            "max_width": null,
            "min_height": null,
            "min_width": null,
            "object_fit": null,
            "object_position": null,
            "order": null,
            "overflow": null,
            "overflow_x": null,
            "overflow_y": null,
            "padding": null,
            "right": null,
            "top": null,
            "visibility": null,
            "width": null
          }
        },
        "88c3c3c50ed1408483e2159a4e2934a3": {
          "model_module": "@jupyter-widgets/controls",
          "model_name": "DescriptionStyleModel",
          "model_module_version": "1.5.0",
          "state": {
            "_model_module": "@jupyter-widgets/controls",
            "_model_module_version": "1.5.0",
            "_model_name": "DescriptionStyleModel",
            "_view_count": null,
            "_view_module": "@jupyter-widgets/base",
            "_view_module_version": "1.2.0",
            "_view_name": "StyleView",
            "description_width": ""
          }
        },
        "188f156859774aa3b77fcaabd5e36357": {
          "model_module": "@jupyter-widgets/controls",
          "model_name": "ButtonModel",
          "model_module_version": "1.5.0",
          "state": {
            "_dom_classes": [],
            "_model_module": "@jupyter-widgets/controls",
            "_model_module_version": "1.5.0",
            "_model_name": "ButtonModel",
            "_view_count": null,
            "_view_module": "@jupyter-widgets/controls",
            "_view_module_version": "1.5.0",
            "_view_name": "ButtonView",
            "button_style": "",
            "description": "Predecir Resultado",
            "disabled": false,
            "icon": "",
            "layout": "IPY_MODEL_0e3c152ef78c419dbba6018389321dbe",
            "style": "IPY_MODEL_a7b5331c0ac3408ebc29eccdb5d06069",
            "tooltip": ""
          }
        },
        "0e3c152ef78c419dbba6018389321dbe": {
          "model_module": "@jupyter-widgets/base",
          "model_name": "LayoutModel",
          "model_module_version": "1.2.0",
          "state": {
            "_model_module": "@jupyter-widgets/base",
            "_model_module_version": "1.2.0",
            "_model_name": "LayoutModel",
            "_view_count": null,
            "_view_module": "@jupyter-widgets/base",
            "_view_module_version": "1.2.0",
            "_view_name": "LayoutView",
            "align_content": null,
            "align_items": null,
            "align_self": null,
            "border": null,
            "bottom": null,
            "display": null,
            "flex": null,
            "flex_flow": null,
            "grid_area": null,
            "grid_auto_columns": null,
            "grid_auto_flow": null,
            "grid_auto_rows": null,
            "grid_column": null,
            "grid_gap": null,
            "grid_row": null,
            "grid_template_areas": null,
            "grid_template_columns": null,
            "grid_template_rows": null,
            "height": null,
            "justify_content": null,
            "justify_items": null,
            "left": null,
            "margin": null,
            "max_height": null,
            "max_width": null,
            "min_height": null,
            "min_width": null,
            "object_fit": null,
            "object_position": null,
            "order": null,
            "overflow": null,
            "overflow_x": null,
            "overflow_y": null,
            "padding": null,
            "right": null,
            "top": null,
            "visibility": null,
            "width": null
          }
        },
        "a7b5331c0ac3408ebc29eccdb5d06069": {
          "model_module": "@jupyter-widgets/controls",
          "model_name": "ButtonStyleModel",
          "model_module_version": "1.5.0",
          "state": {
            "_model_module": "@jupyter-widgets/controls",
            "_model_module_version": "1.5.0",
            "_model_name": "ButtonStyleModel",
            "_view_count": null,
            "_view_module": "@jupyter-widgets/base",
            "_view_module_version": "1.2.0",
            "_view_name": "StyleView",
            "button_color": null,
            "font_weight": ""
          }
        },
        "03bd2be2a01642f58781897e3ade86e6": {
          "model_module": "@jupyter-widgets/output",
          "model_name": "OutputModel",
          "model_module_version": "1.0.0",
          "state": {
            "_dom_classes": [],
            "_model_module": "@jupyter-widgets/output",
            "_model_module_version": "1.0.0",
            "_model_name": "OutputModel",
            "_view_count": null,
            "_view_module": "@jupyter-widgets/output",
            "_view_module_version": "1.0.0",
            "_view_name": "OutputView",
            "layout": "IPY_MODEL_9f8b31f0eef84f69bda84b9db718485a",
            "msg_id": "",
            "outputs": [
              {
                "output_type": "stream",
                "name": "stdout",
                "text": [
                  "Resultado predicho (modelo LogisticRegression): Gana Visitante\n"
                ]
              },
              {
                "output_type": "stream",
                "name": "stderr",
                "text": [
                  "/usr/local/lib/python3.11/dist-packages/sklearn/utils/validation.py:2732: UserWarning:\n",
                  "\n",
                  "X has feature names, but LogisticRegression was fitted without feature names\n",
                  "\n"
                ]
              }
            ]
          }
        },
        "9f8b31f0eef84f69bda84b9db718485a": {
          "model_module": "@jupyter-widgets/base",
          "model_name": "LayoutModel",
          "model_module_version": "1.2.0",
          "state": {
            "_model_module": "@jupyter-widgets/base",
            "_model_module_version": "1.2.0",
            "_model_name": "LayoutModel",
            "_view_count": null,
            "_view_module": "@jupyter-widgets/base",
            "_view_module_version": "1.2.0",
            "_view_name": "LayoutView",
            "align_content": null,
            "align_items": null,
            "align_self": null,
            "border": null,
            "bottom": null,
            "display": null,
            "flex": null,
            "flex_flow": null,
            "grid_area": null,
            "grid_auto_columns": null,
            "grid_auto_flow": null,
            "grid_auto_rows": null,
            "grid_column": null,
            "grid_gap": null,
            "grid_row": null,
            "grid_template_areas": null,
            "grid_template_columns": null,
            "grid_template_rows": null,
            "height": null,
            "justify_content": null,
            "justify_items": null,
            "left": null,
            "margin": null,
            "max_height": null,
            "max_width": null,
            "min_height": null,
            "min_width": null,
            "object_fit": null,
            "object_position": null,
            "order": null,
            "overflow": null,
            "overflow_x": null,
            "overflow_y": null,
            "padding": null,
            "right": null,
            "top": null,
            "visibility": null,
            "width": null
          }
        }
      }
    }
  },
  "cells": [
    {
      "cell_type": "code",
      "execution_count": 4,
      "metadata": {
        "colab": {
          "base_uri": "https://localhost:8080/"
        },
        "id": "lHzMXl8PltXG",
        "outputId": "c57bdeb4-fda6-4994-cb6c-7cf5b96f4919"
      },
      "outputs": [
        {
          "output_type": "stream",
          "name": "stdout",
          "text": [
            "Mounted at /content/drive\n"
          ]
        }
      ],
      "source": [
        "from google.colab import drive\n",
        "drive.mount('/content/drive')\n",
        "# https://github.com/DiegoLoy0/TalentoTech"
      ]
    },
    {
      "cell_type": "markdown",
      "source": [
        "**Cargando la base de datos y realizando copia para trabajar con esta.**"
      ],
      "metadata": {
        "id": "KYodJICsNo1_"
      }
    },
    {
      "cell_type": "code",
      "source": [
        "import pandas as pd\n",
        "df= pd.read_csv('/content/drive/MyDrive/Colab Notebooks/DataFrame/epl_final.csv')"
      ],
      "metadata": {
        "id": "r0Gm9dS4lxfd"
      },
      "execution_count": 5,
      "outputs": []
    },
    {
      "cell_type": "code",
      "source": [
        "df_premier = df.copy()"
      ],
      "metadata": {
        "id": "fU3yX0Zlngv1"
      },
      "execution_count": 6,
      "outputs": []
    },
    {
      "cell_type": "markdown",
      "source": [
        "# ⚽ Visualización de la base de datos."
      ],
      "metadata": {
        "id": "-CKfXxoWN8rG"
      }
    },
    {
      "cell_type": "code",
      "source": [
        "df_premier.info()"
      ],
      "metadata": {
        "colab": {
          "base_uri": "https://localhost:8080/"
        },
        "id": "O8IUE3uvoiA5",
        "outputId": "ef8ecd7d-97c9-464b-dfb5-4163403cdad5",
        "collapsed": true
      },
      "execution_count": 7,
      "outputs": [
        {
          "output_type": "stream",
          "name": "stdout",
          "text": [
            "<class 'pandas.core.frame.DataFrame'>\n",
            "RangeIndex: 9380 entries, 0 to 9379\n",
            "Data columns (total 22 columns):\n",
            " #   Column             Non-Null Count  Dtype \n",
            "---  ------             --------------  ----- \n",
            " 0   Season             9380 non-null   object\n",
            " 1   MatchDate          9380 non-null   object\n",
            " 2   HomeTeam           9380 non-null   object\n",
            " 3   AwayTeam           9380 non-null   object\n",
            " 4   FullTimeHomeGoals  9380 non-null   int64 \n",
            " 5   FullTimeAwayGoals  9380 non-null   int64 \n",
            " 6   FullTimeResult     9380 non-null   object\n",
            " 7   HalfTimeHomeGoals  9380 non-null   int64 \n",
            " 8   HalfTimeAwayGoals  9380 non-null   int64 \n",
            " 9   HalfTimeResult     9380 non-null   object\n",
            " 10  HomeShots          9380 non-null   int64 \n",
            " 11  AwayShots          9380 non-null   int64 \n",
            " 12  HomeShotsOnTarget  9380 non-null   int64 \n",
            " 13  AwayShotsOnTarget  9380 non-null   int64 \n",
            " 14  HomeCorners        9380 non-null   int64 \n",
            " 15  AwayCorners        9380 non-null   int64 \n",
            " 16  HomeFouls          9380 non-null   int64 \n",
            " 17  AwayFouls          9380 non-null   int64 \n",
            " 18  HomeYellowCards    9380 non-null   int64 \n",
            " 19  AwayYellowCards    9380 non-null   int64 \n",
            " 20  HomeRedCards       9380 non-null   int64 \n",
            " 21  AwayRedCards       9380 non-null   int64 \n",
            "dtypes: int64(16), object(6)\n",
            "memory usage: 1.6+ MB\n"
          ]
        }
      ]
    },
    {
      "cell_type": "markdown",
      "source": [
        "Se puede verque contamos con 21 columnas, con 17 tipo númerico y las demás tipo object. Estos son los datos que tenemos para cada partido dividiendolos por Local y Visitante."
      ],
      "metadata": {
        "id": "W9xJPmsMONSE"
      }
    },
    {
      "cell_type": "markdown",
      "source": [
        "# 🧹Limpieza de datos"
      ],
      "metadata": {
        "id": "PicmCNlCO9-N"
      }
    },
    {
      "cell_type": "markdown",
      "source": [
        "Para empezar con la limpieza, se realiza un analisis de los datos en el DataSet identificando así:\n",
        "\n",
        "\n",
        "*   Valores nulos.\n",
        "*   Valores faltantes.\n",
        "*   Creacion de columnas (que nos brinden una manipulacion más efectiva de los datos).\n",
        "*   Tranformacion de tipos de datos. (De igual forma para la manipulacion de datos)."
      ],
      "metadata": {
        "id": "dKIDbjpmPCQM"
      }
    },
    {
      "cell_type": "code",
      "source": [
        "# Asegurarnos de que MatchDate sea de tipo datetime\n",
        "df_premier['MatchDate'] = pd.to_datetime(df_premier['MatchDate'], dayfirst=True, errors='coerce')\n",
        "\n",
        "# Crear columnas nuevas con año, mes y día\n",
        "df_premier['match_year'] = df_premier['MatchDate'].dt.year\n",
        "df_premier['match_month'] = df_premier['MatchDate'].dt.month\n",
        "df_premier['match_day'] = df_premier['MatchDate'].dt.day\n",
        "\n",
        "# Eliminar la columna original\n",
        "df.drop('MatchDate', axis=1, inplace=True)\n",
        "\n",
        "# Verificamos el resultado\n",
        "print(df_premier[['MatchDate', 'match_year', 'match_month', 'match_day']].head())"
      ],
      "metadata": {
        "colab": {
          "base_uri": "https://localhost:8080/"
        },
        "id": "Tx02_f-Vonm0",
        "outputId": "8692c371-a8b2-4b17-9a7e-6601b50573ce",
        "collapsed": true
      },
      "execution_count": 8,
      "outputs": [
        {
          "output_type": "stream",
          "name": "stdout",
          "text": [
            "   MatchDate  match_year  match_month  match_day\n",
            "0 2000-08-19        2000            8         19\n",
            "1 2000-08-19        2000            8         19\n",
            "2 2000-08-19        2000            8         19\n",
            "3 2000-08-19        2000            8         19\n",
            "4 2000-08-19        2000            8         19\n"
          ]
        },
        {
          "output_type": "stream",
          "name": "stderr",
          "text": [
            "/tmp/ipython-input-8-3042771523.py:2: UserWarning: Parsing dates in %Y-%m-%d format when dayfirst=True was specified. Pass `dayfirst=False` or specify a format to silence this warning.\n",
            "  df_premier['MatchDate'] = pd.to_datetime(df_premier['MatchDate'], dayfirst=True, errors='coerce')\n"
          ]
        }
      ]
    },
    {
      "cell_type": "markdown",
      "source": [
        "información sobre datos nulos, a nuestro favor contamos que al ser datos reales y oficiales, no tienen valores nulos."
      ],
      "metadata": {
        "id": "2HrSh9L7PVwV"
      }
    },
    {
      "cell_type": "code",
      "source": [
        "print(df_premier.isnull().sum())"
      ],
      "metadata": {
        "colab": {
          "base_uri": "https://localhost:8080/"
        },
        "id": "hU3tXhPb7Bzn",
        "outputId": "9c7b0bea-cae5-4ad3-db5b-8f6cd182c539",
        "collapsed": true
      },
      "execution_count": 9,
      "outputs": [
        {
          "output_type": "stream",
          "name": "stdout",
          "text": [
            "Season               0\n",
            "MatchDate            0\n",
            "HomeTeam             0\n",
            "AwayTeam             0\n",
            "FullTimeHomeGoals    0\n",
            "FullTimeAwayGoals    0\n",
            "FullTimeResult       0\n",
            "HalfTimeHomeGoals    0\n",
            "HalfTimeAwayGoals    0\n",
            "HalfTimeResult       0\n",
            "HomeShots            0\n",
            "AwayShots            0\n",
            "HomeShotsOnTarget    0\n",
            "AwayShotsOnTarget    0\n",
            "HomeCorners          0\n",
            "AwayCorners          0\n",
            "HomeFouls            0\n",
            "AwayFouls            0\n",
            "HomeYellowCards      0\n",
            "AwayYellowCards      0\n",
            "HomeRedCards         0\n",
            "AwayRedCards         0\n",
            "match_year           0\n",
            "match_month          0\n",
            "match_day            0\n",
            "dtype: int64\n"
          ]
        }
      ]
    },
    {
      "cell_type": "code",
      "source": [
        "df_premier.columns"
      ],
      "metadata": {
        "colab": {
          "base_uri": "https://localhost:8080/"
        },
        "id": "6s729YDQpU3F",
        "outputId": "2cd7e4d9-c951-4ac0-db67-197b2c98aa72",
        "collapsed": true
      },
      "execution_count": 10,
      "outputs": [
        {
          "output_type": "execute_result",
          "data": {
            "text/plain": [
              "Index(['Season', 'MatchDate', 'HomeTeam', 'AwayTeam', 'FullTimeHomeGoals',\n",
              "       'FullTimeAwayGoals', 'FullTimeResult', 'HalfTimeHomeGoals',\n",
              "       'HalfTimeAwayGoals', 'HalfTimeResult', 'HomeShots', 'AwayShots',\n",
              "       'HomeShotsOnTarget', 'AwayShotsOnTarget', 'HomeCorners', 'AwayCorners',\n",
              "       'HomeFouls', 'AwayFouls', 'HomeYellowCards', 'AwayYellowCards',\n",
              "       'HomeRedCards', 'AwayRedCards', 'match_year', 'match_month',\n",
              "       'match_day'],\n",
              "      dtype='object')"
            ]
          },
          "metadata": {},
          "execution_count": 10
        }
      ]
    },
    {
      "cell_type": "markdown",
      "source": [
        "Adicción de columnas al DF (data frame) en valores númericos, permitiendo ingresar estas columnas al modelo de predicción. Y asignando un identificador a cada equipo."
      ],
      "metadata": {
        "id": "bZz_QG7OYyJX"
      }
    },
    {
      "cell_type": "code",
      "source": [
        "# 1. Obtener todos los equipos únicos desde HomeTeam y AwayTeam\n",
        "equipos_unicos = pd.unique(df_premier[['HomeTeam', 'AwayTeam']].values.ravel())\n",
        "\n",
        "# 2. Crear diccionario de mapeo equipo → ID\n",
        "equipo_id_map = {equipo: idx for idx, equipo in enumerate(sorted(equipos_unicos))}\n",
        "\n",
        "# 3. Crear DataFrame separado con los equipos y sus IDs\n",
        "equipos_df = pd.DataFrame({\n",
        "    'Equipo': list(equipo_id_map.keys()),\n",
        "    'EquipoID': list(equipo_id_map.values())\n",
        "})\n",
        "\n",
        "# 4. Agregar columnas con los IDs al DataFrame principal\n",
        "df_premier['HomeTeamID'] = df_premier['HomeTeam'].map(equipo_id_map)\n",
        "df_premier['AwayTeamID'] = df_premier['AwayTeam'].map(equipo_id_map)\n",
        "\n",
        "# 5. (Opcional) Eliminar los nombres de equipos originales si ya no los necesitas\n",
        "df_premier.drop(['HomeTeam', 'AwayTeam'], axis=1, inplace=True)\n",
        "\n",
        "# 6. Verificación\n",
        "print(df_premier[['HomeTeamID', 'AwayTeamID']].head())\n",
        "print(equipos_df.head())"
      ],
      "metadata": {
        "colab": {
          "base_uri": "https://localhost:8080/"
        },
        "id": "4N3BGoYApmyn",
        "outputId": "66d14494-5d86-45a1-fe2b-4396369670f2"
      },
      "execution_count": 11,
      "outputs": [
        {
          "output_type": "stream",
          "name": "stdout",
          "text": [
            "   HomeTeamID  AwayTeamID\n",
            "0          12          26\n",
            "1          13          43\n",
            "2          14          28\n",
            "3          16          36\n",
            "4          22          17\n",
            "        Equipo  EquipoID\n",
            "0      Arsenal         0\n",
            "1  Aston Villa         1\n",
            "2   Birmingham         2\n",
            "3    Blackburn         3\n",
            "4    Blackpool         4\n"
          ]
        }
      ]
    },
    {
      "cell_type": "markdown",
      "source": [
        "De igual forma se realiza un mapeo a las columnas de resultado y medio tiempo. Pero estas si, se trabajaran en la mismas columnas."
      ],
      "metadata": {
        "id": "bzHR-bQGZkBo"
      }
    },
    {
      "cell_type": "code",
      "source": [
        "# Mapeo de resultados\n",
        "resultado_map = {'D': 0, 'H': 1, 'A': 2}\n",
        "\n",
        "# Convertir directamente en las columnas existentes\n",
        "df_premier['FullTimeResult'] = df_premier['FullTimeResult'].map(resultado_map)\n",
        "df_premier['HalfTimeResult'] = df_premier['HalfTimeResult'].map(resultado_map)"
      ],
      "metadata": {
        "id": "KmVszUKjru4N"
      },
      "execution_count": 12,
      "outputs": []
    },
    {
      "cell_type": "code",
      "source": [
        "df_premier.info()"
      ],
      "metadata": {
        "colab": {
          "base_uri": "https://localhost:8080/"
        },
        "id": "ccVbKRVCtOFk",
        "outputId": "714214a3-361c-4fd4-e9f1-7d461dce8eb7",
        "collapsed": true
      },
      "execution_count": 13,
      "outputs": [
        {
          "output_type": "stream",
          "name": "stdout",
          "text": [
            "<class 'pandas.core.frame.DataFrame'>\n",
            "RangeIndex: 9380 entries, 0 to 9379\n",
            "Data columns (total 25 columns):\n",
            " #   Column             Non-Null Count  Dtype         \n",
            "---  ------             --------------  -----         \n",
            " 0   Season             9380 non-null   object        \n",
            " 1   MatchDate          9380 non-null   datetime64[ns]\n",
            " 2   FullTimeHomeGoals  9380 non-null   int64         \n",
            " 3   FullTimeAwayGoals  9380 non-null   int64         \n",
            " 4   FullTimeResult     9380 non-null   int64         \n",
            " 5   HalfTimeHomeGoals  9380 non-null   int64         \n",
            " 6   HalfTimeAwayGoals  9380 non-null   int64         \n",
            " 7   HalfTimeResult     9380 non-null   int64         \n",
            " 8   HomeShots          9380 non-null   int64         \n",
            " 9   AwayShots          9380 non-null   int64         \n",
            " 10  HomeShotsOnTarget  9380 non-null   int64         \n",
            " 11  AwayShotsOnTarget  9380 non-null   int64         \n",
            " 12  HomeCorners        9380 non-null   int64         \n",
            " 13  AwayCorners        9380 non-null   int64         \n",
            " 14  HomeFouls          9380 non-null   int64         \n",
            " 15  AwayFouls          9380 non-null   int64         \n",
            " 16  HomeYellowCards    9380 non-null   int64         \n",
            " 17  AwayYellowCards    9380 non-null   int64         \n",
            " 18  HomeRedCards       9380 non-null   int64         \n",
            " 19  AwayRedCards       9380 non-null   int64         \n",
            " 20  match_year         9380 non-null   int32         \n",
            " 21  match_month        9380 non-null   int32         \n",
            " 22  match_day          9380 non-null   int32         \n",
            " 23  HomeTeamID         9380 non-null   int64         \n",
            " 24  AwayTeamID         9380 non-null   int64         \n",
            "dtypes: datetime64[ns](1), int32(3), int64(20), object(1)\n",
            "memory usage: 1.7+ MB\n"
          ]
        }
      ]
    },
    {
      "cell_type": "markdown",
      "source": [
        "Creamos un vector para almacenar las estadisticas de los promedios que necesitamos para la predicción."
      ],
      "metadata": {
        "id": "66H7yPW1Z3QO"
      }
    },
    {
      "cell_type": "code",
      "source": [
        "estadisticas = []\n",
        "\n",
        "for equipo_id in df_premier['HomeTeamID'].unique():\n",
        "    # Partidos como local\n",
        "    df_local = df_premier[df_premier['HomeTeamID'] == equipo_id]\n",
        "    goles_favor_local = df_local['FullTimeHomeGoals'].mean()\n",
        "    goles_contra_local = df_local['FullTimeAwayGoals'].mean()\n",
        "    corners_local = df_local['HomeCorners'].mean()\n",
        "    tiros_local = df_local['HomeShots'].sum()\n",
        "    tiros_arco_local = df_local['HomeShotsOnTarget'].sum()\n",
        "    precision_local = tiros_arco_local / tiros_local if tiros_local > 0 else 0\n",
        "    victorias_local = (df_local['FullTimeResult'] == 1).mean()\n",
        "    derrotas_local = (df_local['FullTimeResult'] == 2).mean()\n",
        "    amarillas_local = df_local['HomeYellowCards'].mean()\n",
        "    rojas_local = df_local['HomeRedCards'].mean()\n",
        "\n",
        "    # Partidos como visitante\n",
        "    df_visit = df_premier[df_premier['AwayTeamID'] == equipo_id]\n",
        "    goles_favor_visit = df_visit['FullTimeAwayGoals'].mean()\n",
        "    goles_contra_visit = df_visit['FullTimeHomeGoals'].mean()\n",
        "    corners_visit = df_visit['AwayCorners'].mean()\n",
        "    tiros_visit = df_visit['AwayShots'].sum()\n",
        "    tiros_arco_visit = df_visit['AwayShotsOnTarget'].sum()\n",
        "    precision_visit = tiros_arco_visit / tiros_visit if tiros_visit > 0 else 0\n",
        "    victorias_visit = (df_visit['FullTimeResult'] == 2).mean()\n",
        "    derrotas_visit = (df_visit['FullTimeResult'] == 1).mean()\n",
        "    amarillas_visit = df_visit['AwayYellowCards'].mean()\n",
        "    rojas_visit = df_visit['AwayRedCards'].mean()\n",
        "\n",
        "    # Combinar promedios\n",
        "    estadisticas.append({\n",
        "        'EquipoID': equipo_id,\n",
        "        'prom_goles_favor': (goles_favor_local + goles_favor_visit) / 2,\n",
        "        'prom_goles_contra': (goles_contra_local + goles_contra_visit) / 2,\n",
        "        'prom_corners': (corners_local + corners_visit) / 2,\n",
        "        'precision_tiros': (precision_local + precision_visit) / 2,\n",
        "        'prom_victorias': (victorias_local + victorias_visit) / 2,\n",
        "        'prom_derrotas': (derrotas_local + derrotas_visit) / 2,\n",
        "        'prom_amarillas': (amarillas_local + amarillas_visit) / 2,\n",
        "        'prom_rojas': (rojas_local + rojas_visit) / 2\n",
        "    })\n",
        "\n",
        "# Convertir a DataFrame\n",
        "df_stats_equipos = pd.DataFrame(estadisticas)\n",
        "\n",
        "# Verificar resultado\n",
        "print(df_stats_equipos.head())"
      ],
      "metadata": {
        "colab": {
          "base_uri": "https://localhost:8080/"
        },
        "id": "nhU3ELOeuGur",
        "outputId": "0a0b9462-1df1-4fc3-f4dc-ecebbc8fdc62"
      },
      "execution_count": 14,
      "outputs": [
        {
          "output_type": "stream",
          "name": "stdout",
          "text": [
            "   EquipoID  prom_goles_favor  prom_goles_contra  prom_corners  \\\n",
            "0        12          1.141166           1.452464      5.069291   \n",
            "1        13          1.815109           0.962764      6.156284   \n",
            "2        14          0.947368           1.657895      5.421053   \n",
            "3        16          0.789474           1.850877      4.184211   \n",
            "4        22          1.383001           1.598209      5.491544   \n",
            "\n",
            "   precision_tiros  prom_victorias  prom_derrotas  prom_amarillas  prom_rojas  \n",
            "0         0.523350        0.322416       0.418089        1.290024    0.077644  \n",
            "1         0.444567        0.568763       0.201786        1.683271    0.072588  \n",
            "2         0.455959        0.210526       0.526316        2.000000    0.105263  \n",
            "3         0.497276        0.166667       0.605263        1.850877    0.052632  \n",
            "4         0.424894        0.352437       0.421697        2.012184    0.080564  \n"
          ]
        }
      ]
    },
    {
      "cell_type": "markdown",
      "source": [
        "Con estas columnas listas de promedios, procedemos a renombrar las columnas, dividiendolas en equipo local y equipo visitante."
      ],
      "metadata": {
        "id": "cn6CaiguaT_X"
      }
    },
    {
      "cell_type": "code",
      "source": [
        "# Renombramos columnas del local para diferenciarlas\n",
        "df_stats_local = df_stats_equipos.rename(columns={\n",
        "    'EquipoID': 'HomeTeamID',\n",
        "    'prom_goles_favor': 'local_goles_favor',\n",
        "    'prom_goles_contra': 'local_goles_contra',\n",
        "    'prom_corners': 'local_corners',\n",
        "    'precision_tiros': 'local_precision_tiros',\n",
        "    'prom_victorias': 'local_victorias',\n",
        "    'prom_derrotas': 'local_derrotas',\n",
        "    'prom_amarillas': 'local_amarillas',\n",
        "    'prom_rojas': 'local_rojas'\n",
        "})\n",
        "\n",
        "# Igual para visitante\n",
        "df_stats_visit = df_stats_equipos.rename(columns={\n",
        "    'EquipoID': 'AwayTeamID',\n",
        "    'prom_goles_favor': 'visit_goles_favor',\n",
        "    'prom_goles_contra': 'visit_goles_contra',\n",
        "    'prom_corners': 'visit_corners',\n",
        "    'precision_tiros': 'visit_precision_tiros',\n",
        "    'prom_victorias': 'visit_victorias',\n",
        "    'prom_derrotas': 'visit_derrotas',\n",
        "    'prom_amarillas': 'visit_amarillas',\n",
        "    'prom_rojas': 'visit_rojas'\n",
        "})\n",
        "\n",
        "# Hacemos merge para agregar estadísticas del equipo local\n",
        "df_premier = df_premier.merge(df_stats_local, on='HomeTeamID', how='left')\n",
        "\n",
        "# Hacemos merge para agregar estadísticas del equipo visitante\n",
        "df_premier = df_premier.merge(df_stats_visit, on='AwayTeamID', how='left')\n",
        "\n",
        "# Verificamos columnas agregadas\n",
        "df_premier.head()"
      ],
      "metadata": {
        "colab": {
          "base_uri": "https://localhost:8080/",
          "height": 342
        },
        "id": "_ryW6U8nxNyc",
        "outputId": "54f408fd-6783-4570-b23f-e78c9b2ac1a3"
      },
      "execution_count": 15,
      "outputs": [
        {
          "output_type": "execute_result",
          "data": {
            "text/plain": [
              "    Season  MatchDate  FullTimeHomeGoals  FullTimeAwayGoals  FullTimeResult  \\\n",
              "0  2000/01 2000-08-19                  4                  0               1   \n",
              "1  2000/01 2000-08-19                  4                  2               1   \n",
              "2  2000/01 2000-08-19                  1                  3               2   \n",
              "3  2000/01 2000-08-19                  2                  2               0   \n",
              "4  2000/01 2000-08-19                  2                  0               1   \n",
              "\n",
              "   HalfTimeHomeGoals  HalfTimeAwayGoals  HalfTimeResult  HomeShots  AwayShots  \\\n",
              "0                  2                  0               1         17          8   \n",
              "1                  1                  0               1         17         12   \n",
              "2                  1                  1               0          6         16   \n",
              "3                  1                  2               2          6         13   \n",
              "4                  2                  0               1         17         12   \n",
              "\n",
              "   ...  local_amarillas  local_rojas  visit_goles_favor  visit_goles_contra  \\\n",
              "0  ...         1.290024     0.077644           1.910000            1.050000   \n",
              "1  ...         1.683271     0.072588           1.260293            1.498397   \n",
              "2  ...         2.000000     0.105263           1.082165            1.331161   \n",
              "3  ...         1.850877     0.052632           1.165104            1.478376   \n",
              "4  ...         2.012184     0.080564           1.280464            1.269316   \n",
              "\n",
              "   visit_corners  visit_precision_tiros  visit_victorias  visit_derrotas  \\\n",
              "0       6.576667               0.439792         0.555556        0.255556   \n",
              "1       5.101437               0.411852         0.326433        0.423870   \n",
              "2       4.780171               0.495937         0.279115        0.433343   \n",
              "3       5.279984               0.391018         0.293179        0.437147   \n",
              "4       5.363853               0.443218         0.370563        0.351075   \n",
              "\n",
              "   visit_amarillas  visit_rojas  \n",
              "0         1.514444     0.074444  \n",
              "1         1.684413     0.070859  \n",
              "2         1.624628     0.086140  \n",
              "3         1.508469     0.069342  \n",
              "4         1.614575     0.084255  \n",
              "\n",
              "[5 rows x 41 columns]"
            ],
            "text/html": [
              "\n",
              "  <div id=\"df-9f9ca158-e460-4dac-b8f3-fa0c3b55dd42\" class=\"colab-df-container\">\n",
              "    <div>\n",
              "<style scoped>\n",
              "    .dataframe tbody tr th:only-of-type {\n",
              "        vertical-align: middle;\n",
              "    }\n",
              "\n",
              "    .dataframe tbody tr th {\n",
              "        vertical-align: top;\n",
              "    }\n",
              "\n",
              "    .dataframe thead th {\n",
              "        text-align: right;\n",
              "    }\n",
              "</style>\n",
              "<table border=\"1\" class=\"dataframe\">\n",
              "  <thead>\n",
              "    <tr style=\"text-align: right;\">\n",
              "      <th></th>\n",
              "      <th>Season</th>\n",
              "      <th>MatchDate</th>\n",
              "      <th>FullTimeHomeGoals</th>\n",
              "      <th>FullTimeAwayGoals</th>\n",
              "      <th>FullTimeResult</th>\n",
              "      <th>HalfTimeHomeGoals</th>\n",
              "      <th>HalfTimeAwayGoals</th>\n",
              "      <th>HalfTimeResult</th>\n",
              "      <th>HomeShots</th>\n",
              "      <th>AwayShots</th>\n",
              "      <th>...</th>\n",
              "      <th>local_amarillas</th>\n",
              "      <th>local_rojas</th>\n",
              "      <th>visit_goles_favor</th>\n",
              "      <th>visit_goles_contra</th>\n",
              "      <th>visit_corners</th>\n",
              "      <th>visit_precision_tiros</th>\n",
              "      <th>visit_victorias</th>\n",
              "      <th>visit_derrotas</th>\n",
              "      <th>visit_amarillas</th>\n",
              "      <th>visit_rojas</th>\n",
              "    </tr>\n",
              "  </thead>\n",
              "  <tbody>\n",
              "    <tr>\n",
              "      <th>0</th>\n",
              "      <td>2000/01</td>\n",
              "      <td>2000-08-19</td>\n",
              "      <td>4</td>\n",
              "      <td>0</td>\n",
              "      <td>1</td>\n",
              "      <td>2</td>\n",
              "      <td>0</td>\n",
              "      <td>1</td>\n",
              "      <td>17</td>\n",
              "      <td>8</td>\n",
              "      <td>...</td>\n",
              "      <td>1.290024</td>\n",
              "      <td>0.077644</td>\n",
              "      <td>1.910000</td>\n",
              "      <td>1.050000</td>\n",
              "      <td>6.576667</td>\n",
              "      <td>0.439792</td>\n",
              "      <td>0.555556</td>\n",
              "      <td>0.255556</td>\n",
              "      <td>1.514444</td>\n",
              "      <td>0.074444</td>\n",
              "    </tr>\n",
              "    <tr>\n",
              "      <th>1</th>\n",
              "      <td>2000/01</td>\n",
              "      <td>2000-08-19</td>\n",
              "      <td>4</td>\n",
              "      <td>2</td>\n",
              "      <td>1</td>\n",
              "      <td>1</td>\n",
              "      <td>0</td>\n",
              "      <td>1</td>\n",
              "      <td>17</td>\n",
              "      <td>12</td>\n",
              "      <td>...</td>\n",
              "      <td>1.683271</td>\n",
              "      <td>0.072588</td>\n",
              "      <td>1.260293</td>\n",
              "      <td>1.498397</td>\n",
              "      <td>5.101437</td>\n",
              "      <td>0.411852</td>\n",
              "      <td>0.326433</td>\n",
              "      <td>0.423870</td>\n",
              "      <td>1.684413</td>\n",
              "      <td>0.070859</td>\n",
              "    </tr>\n",
              "    <tr>\n",
              "      <th>2</th>\n",
              "      <td>2000/01</td>\n",
              "      <td>2000-08-19</td>\n",
              "      <td>1</td>\n",
              "      <td>3</td>\n",
              "      <td>2</td>\n",
              "      <td>1</td>\n",
              "      <td>1</td>\n",
              "      <td>0</td>\n",
              "      <td>6</td>\n",
              "      <td>16</td>\n",
              "      <td>...</td>\n",
              "      <td>2.000000</td>\n",
              "      <td>0.105263</td>\n",
              "      <td>1.082165</td>\n",
              "      <td>1.331161</td>\n",
              "      <td>4.780171</td>\n",
              "      <td>0.495937</td>\n",
              "      <td>0.279115</td>\n",
              "      <td>0.433343</td>\n",
              "      <td>1.624628</td>\n",
              "      <td>0.086140</td>\n",
              "    </tr>\n",
              "    <tr>\n",
              "      <th>3</th>\n",
              "      <td>2000/01</td>\n",
              "      <td>2000-08-19</td>\n",
              "      <td>2</td>\n",
              "      <td>2</td>\n",
              "      <td>0</td>\n",
              "      <td>1</td>\n",
              "      <td>2</td>\n",
              "      <td>2</td>\n",
              "      <td>6</td>\n",
              "      <td>13</td>\n",
              "      <td>...</td>\n",
              "      <td>1.850877</td>\n",
              "      <td>0.052632</td>\n",
              "      <td>1.165104</td>\n",
              "      <td>1.478376</td>\n",
              "      <td>5.279984</td>\n",
              "      <td>0.391018</td>\n",
              "      <td>0.293179</td>\n",
              "      <td>0.437147</td>\n",
              "      <td>1.508469</td>\n",
              "      <td>0.069342</td>\n",
              "    </tr>\n",
              "    <tr>\n",
              "      <th>4</th>\n",
              "      <td>2000/01</td>\n",
              "      <td>2000-08-19</td>\n",
              "      <td>2</td>\n",
              "      <td>0</td>\n",
              "      <td>1</td>\n",
              "      <td>2</td>\n",
              "      <td>0</td>\n",
              "      <td>1</td>\n",
              "      <td>17</td>\n",
              "      <td>12</td>\n",
              "      <td>...</td>\n",
              "      <td>2.012184</td>\n",
              "      <td>0.080564</td>\n",
              "      <td>1.280464</td>\n",
              "      <td>1.269316</td>\n",
              "      <td>5.363853</td>\n",
              "      <td>0.443218</td>\n",
              "      <td>0.370563</td>\n",
              "      <td>0.351075</td>\n",
              "      <td>1.614575</td>\n",
              "      <td>0.084255</td>\n",
              "    </tr>\n",
              "  </tbody>\n",
              "</table>\n",
              "<p>5 rows × 41 columns</p>\n",
              "</div>\n",
              "    <div class=\"colab-df-buttons\">\n",
              "\n",
              "  <div class=\"colab-df-container\">\n",
              "    <button class=\"colab-df-convert\" onclick=\"convertToInteractive('df-9f9ca158-e460-4dac-b8f3-fa0c3b55dd42')\"\n",
              "            title=\"Convert this dataframe to an interactive table.\"\n",
              "            style=\"display:none;\">\n",
              "\n",
              "  <svg xmlns=\"http://www.w3.org/2000/svg\" height=\"24px\" viewBox=\"0 -960 960 960\">\n",
              "    <path d=\"M120-120v-720h720v720H120Zm60-500h600v-160H180v160Zm220 220h160v-160H400v160Zm0 220h160v-160H400v160ZM180-400h160v-160H180v160Zm440 0h160v-160H620v160ZM180-180h160v-160H180v160Zm440 0h160v-160H620v160Z\"/>\n",
              "  </svg>\n",
              "    </button>\n",
              "\n",
              "  <style>\n",
              "    .colab-df-container {\n",
              "      display:flex;\n",
              "      gap: 12px;\n",
              "    }\n",
              "\n",
              "    .colab-df-convert {\n",
              "      background-color: #E8F0FE;\n",
              "      border: none;\n",
              "      border-radius: 50%;\n",
              "      cursor: pointer;\n",
              "      display: none;\n",
              "      fill: #1967D2;\n",
              "      height: 32px;\n",
              "      padding: 0 0 0 0;\n",
              "      width: 32px;\n",
              "    }\n",
              "\n",
              "    .colab-df-convert:hover {\n",
              "      background-color: #E2EBFA;\n",
              "      box-shadow: 0px 1px 2px rgba(60, 64, 67, 0.3), 0px 1px 3px 1px rgba(60, 64, 67, 0.15);\n",
              "      fill: #174EA6;\n",
              "    }\n",
              "\n",
              "    .colab-df-buttons div {\n",
              "      margin-bottom: 4px;\n",
              "    }\n",
              "\n",
              "    [theme=dark] .colab-df-convert {\n",
              "      background-color: #3B4455;\n",
              "      fill: #D2E3FC;\n",
              "    }\n",
              "\n",
              "    [theme=dark] .colab-df-convert:hover {\n",
              "      background-color: #434B5C;\n",
              "      box-shadow: 0px 1px 3px 1px rgba(0, 0, 0, 0.15);\n",
              "      filter: drop-shadow(0px 1px 2px rgba(0, 0, 0, 0.3));\n",
              "      fill: #FFFFFF;\n",
              "    }\n",
              "  </style>\n",
              "\n",
              "    <script>\n",
              "      const buttonEl =\n",
              "        document.querySelector('#df-9f9ca158-e460-4dac-b8f3-fa0c3b55dd42 button.colab-df-convert');\n",
              "      buttonEl.style.display =\n",
              "        google.colab.kernel.accessAllowed ? 'block' : 'none';\n",
              "\n",
              "      async function convertToInteractive(key) {\n",
              "        const element = document.querySelector('#df-9f9ca158-e460-4dac-b8f3-fa0c3b55dd42');\n",
              "        const dataTable =\n",
              "          await google.colab.kernel.invokeFunction('convertToInteractive',\n",
              "                                                    [key], {});\n",
              "        if (!dataTable) return;\n",
              "\n",
              "        const docLinkHtml = 'Like what you see? Visit the ' +\n",
              "          '<a target=\"_blank\" href=https://colab.research.google.com/notebooks/data_table.ipynb>data table notebook</a>'\n",
              "          + ' to learn more about interactive tables.';\n",
              "        element.innerHTML = '';\n",
              "        dataTable['output_type'] = 'display_data';\n",
              "        await google.colab.output.renderOutput(dataTable, element);\n",
              "        const docLink = document.createElement('div');\n",
              "        docLink.innerHTML = docLinkHtml;\n",
              "        element.appendChild(docLink);\n",
              "      }\n",
              "    </script>\n",
              "  </div>\n",
              "\n",
              "\n",
              "    <div id=\"df-45125496-c689-4b39-861f-71dc8d66e169\">\n",
              "      <button class=\"colab-df-quickchart\" onclick=\"quickchart('df-45125496-c689-4b39-861f-71dc8d66e169')\"\n",
              "                title=\"Suggest charts\"\n",
              "                style=\"display:none;\">\n",
              "\n",
              "<svg xmlns=\"http://www.w3.org/2000/svg\" height=\"24px\"viewBox=\"0 0 24 24\"\n",
              "     width=\"24px\">\n",
              "    <g>\n",
              "        <path d=\"M19 3H5c-1.1 0-2 .9-2 2v14c0 1.1.9 2 2 2h14c1.1 0 2-.9 2-2V5c0-1.1-.9-2-2-2zM9 17H7v-7h2v7zm4 0h-2V7h2v10zm4 0h-2v-4h2v4z\"/>\n",
              "    </g>\n",
              "</svg>\n",
              "      </button>\n",
              "\n",
              "<style>\n",
              "  .colab-df-quickchart {\n",
              "      --bg-color: #E8F0FE;\n",
              "      --fill-color: #1967D2;\n",
              "      --hover-bg-color: #E2EBFA;\n",
              "      --hover-fill-color: #174EA6;\n",
              "      --disabled-fill-color: #AAA;\n",
              "      --disabled-bg-color: #DDD;\n",
              "  }\n",
              "\n",
              "  [theme=dark] .colab-df-quickchart {\n",
              "      --bg-color: #3B4455;\n",
              "      --fill-color: #D2E3FC;\n",
              "      --hover-bg-color: #434B5C;\n",
              "      --hover-fill-color: #FFFFFF;\n",
              "      --disabled-bg-color: #3B4455;\n",
              "      --disabled-fill-color: #666;\n",
              "  }\n",
              "\n",
              "  .colab-df-quickchart {\n",
              "    background-color: var(--bg-color);\n",
              "    border: none;\n",
              "    border-radius: 50%;\n",
              "    cursor: pointer;\n",
              "    display: none;\n",
              "    fill: var(--fill-color);\n",
              "    height: 32px;\n",
              "    padding: 0;\n",
              "    width: 32px;\n",
              "  }\n",
              "\n",
              "  .colab-df-quickchart:hover {\n",
              "    background-color: var(--hover-bg-color);\n",
              "    box-shadow: 0 1px 2px rgba(60, 64, 67, 0.3), 0 1px 3px 1px rgba(60, 64, 67, 0.15);\n",
              "    fill: var(--button-hover-fill-color);\n",
              "  }\n",
              "\n",
              "  .colab-df-quickchart-complete:disabled,\n",
              "  .colab-df-quickchart-complete:disabled:hover {\n",
              "    background-color: var(--disabled-bg-color);\n",
              "    fill: var(--disabled-fill-color);\n",
              "    box-shadow: none;\n",
              "  }\n",
              "\n",
              "  .colab-df-spinner {\n",
              "    border: 2px solid var(--fill-color);\n",
              "    border-color: transparent;\n",
              "    border-bottom-color: var(--fill-color);\n",
              "    animation:\n",
              "      spin 1s steps(1) infinite;\n",
              "  }\n",
              "\n",
              "  @keyframes spin {\n",
              "    0% {\n",
              "      border-color: transparent;\n",
              "      border-bottom-color: var(--fill-color);\n",
              "      border-left-color: var(--fill-color);\n",
              "    }\n",
              "    20% {\n",
              "      border-color: transparent;\n",
              "      border-left-color: var(--fill-color);\n",
              "      border-top-color: var(--fill-color);\n",
              "    }\n",
              "    30% {\n",
              "      border-color: transparent;\n",
              "      border-left-color: var(--fill-color);\n",
              "      border-top-color: var(--fill-color);\n",
              "      border-right-color: var(--fill-color);\n",
              "    }\n",
              "    40% {\n",
              "      border-color: transparent;\n",
              "      border-right-color: var(--fill-color);\n",
              "      border-top-color: var(--fill-color);\n",
              "    }\n",
              "    60% {\n",
              "      border-color: transparent;\n",
              "      border-right-color: var(--fill-color);\n",
              "    }\n",
              "    80% {\n",
              "      border-color: transparent;\n",
              "      border-right-color: var(--fill-color);\n",
              "      border-bottom-color: var(--fill-color);\n",
              "    }\n",
              "    90% {\n",
              "      border-color: transparent;\n",
              "      border-bottom-color: var(--fill-color);\n",
              "    }\n",
              "  }\n",
              "</style>\n",
              "\n",
              "      <script>\n",
              "        async function quickchart(key) {\n",
              "          const quickchartButtonEl =\n",
              "            document.querySelector('#' + key + ' button');\n",
              "          quickchartButtonEl.disabled = true;  // To prevent multiple clicks.\n",
              "          quickchartButtonEl.classList.add('colab-df-spinner');\n",
              "          try {\n",
              "            const charts = await google.colab.kernel.invokeFunction(\n",
              "                'suggestCharts', [key], {});\n",
              "          } catch (error) {\n",
              "            console.error('Error during call to suggestCharts:', error);\n",
              "          }\n",
              "          quickchartButtonEl.classList.remove('colab-df-spinner');\n",
              "          quickchartButtonEl.classList.add('colab-df-quickchart-complete');\n",
              "        }\n",
              "        (() => {\n",
              "          let quickchartButtonEl =\n",
              "            document.querySelector('#df-45125496-c689-4b39-861f-71dc8d66e169 button');\n",
              "          quickchartButtonEl.style.display =\n",
              "            google.colab.kernel.accessAllowed ? 'block' : 'none';\n",
              "        })();\n",
              "      </script>\n",
              "    </div>\n",
              "\n",
              "    </div>\n",
              "  </div>\n"
            ],
            "application/vnd.google.colaboratory.intrinsic+json": {
              "type": "dataframe",
              "variable_name": "df_premier"
            }
          },
          "metadata": {},
          "execution_count": 15
        }
      ]
    },
    {
      "cell_type": "markdown",
      "source": [
        "# Gráficos de promedios"
      ],
      "metadata": {
        "id": "XTF-seTTalwV"
      }
    },
    {
      "cell_type": "code",
      "source": [
        "import matplotlib.pyplot as plt\n",
        "import seaborn as sns\n",
        "\n",
        "# Unimos nombres de equipos al df_stats_equipos para mejor visualización\n",
        "df_graficas = df_stats_equipos.merge(equipos_df, on='EquipoID')\n",
        "\n",
        "# Ordenamos por goles a favor para tener una gráfica clara\n",
        "df_graficas = df_graficas.sort_values(by='prom_goles_favor', ascending=False)\n",
        "\n",
        "# Estilo de los gráficos\n",
        "sns.set(style='whitegrid')\n",
        "plt.figure(figsize=(14, 6))\n",
        "\n",
        "# 1. Goles a favor\n",
        "plt.plot(df_graficas['Equipo'], df_graficas['prom_goles_favor'], label='Goles a favor', marker='o', color='blue')\n",
        "\n",
        "# 2. Precisión de tiros\n",
        "plt.plot(df_graficas['Equipo'], df_graficas['precision_tiros'], label='Precisión de tiros', marker='s', color='green')\n",
        "\n",
        "# 3. Tarjetas rojas\n",
        "plt.plot(df_graficas['Equipo'], df_graficas['prom_rojas'], label='Tarjetas rojas', marker='^', color='red')\n",
        "\n",
        "# Estética del gráfico\n",
        "plt.xticks(rotation=90)\n",
        "plt.title('Comparación de estadísticas por equipo')\n",
        "plt.ylabel('Valor promedio')\n",
        "plt.xlabel('Equipo')\n",
        "plt.legend()\n",
        "plt.tight_layout()\n",
        "plt.show()\n"
      ],
      "metadata": {
        "colab": {
          "base_uri": "https://localhost:8080/",
          "height": 538
        },
        "id": "D2Ed3h_oxRdd",
        "outputId": "f8e95ea5-bb95-4ed7-a760-4981a2018381"
      },
      "execution_count": 16,
      "outputs": [
        {
          "output_type": "display_data",
          "data": {
            "text/plain": [
              "<Figure size 1400x600 with 1 Axes>"
            ],
            "image/png": "[encoded data removed]"
          },
          "metadata": {}
        }
      ]
    },
    {
      "cell_type": "markdown",
      "source": [
        "Voy a sugerir estas tres porque son muy representativas y fáciles de interpretar visualmente:\n",
        "\n",
        "Promedio de goles a favor (prom_goles_favor)\n",
        "→ Muestra el poder ofensivo del equipo.\n",
        "\n",
        "Precisión de tiros al arco (precision_tiros)\n",
        "→ Mide qué tan eficaces son los disparos (calidad de ataque).\n",
        "\n",
        "Promedio de tarjetas rojas (prom_rojas)\n",
        "→ Refleja el juego agresivo o indisciplina.\n",
        "\n",
        "Estas tres métricas nos dan un panorama: ofensiva, eficacia y disciplina."
      ],
      "metadata": {
        "id": "f00KEtTAyAnL"
      }
    },
    {
      "cell_type": "code",
      "source": [
        "df_premier.info()"
      ],
      "metadata": {
        "colab": {
          "base_uri": "https://localhost:8080/"
        },
        "id": "f5fDVSeVyCOz",
        "outputId": "694ebb54-30c5-4271-f193-de305dc859b0"
      },
      "execution_count": 17,
      "outputs": [
        {
          "output_type": "stream",
          "name": "stdout",
          "text": [
            "<class 'pandas.core.frame.DataFrame'>\n",
            "RangeIndex: 9380 entries, 0 to 9379\n",
            "Data columns (total 41 columns):\n",
            " #   Column                 Non-Null Count  Dtype         \n",
            "---  ------                 --------------  -----         \n",
            " 0   Season                 9380 non-null   object        \n",
            " 1   MatchDate              9380 non-null   datetime64[ns]\n",
            " 2   FullTimeHomeGoals      9380 non-null   int64         \n",
            " 3   FullTimeAwayGoals      9380 non-null   int64         \n",
            " 4   FullTimeResult         9380 non-null   int64         \n",
            " 5   HalfTimeHomeGoals      9380 non-null   int64         \n",
            " 6   HalfTimeAwayGoals      9380 non-null   int64         \n",
            " 7   HalfTimeResult         9380 non-null   int64         \n",
            " 8   HomeShots              9380 non-null   int64         \n",
            " 9   AwayShots              9380 non-null   int64         \n",
            " 10  HomeShotsOnTarget      9380 non-null   int64         \n",
            " 11  AwayShotsOnTarget      9380 non-null   int64         \n",
            " 12  HomeCorners            9380 non-null   int64         \n",
            " 13  AwayCorners            9380 non-null   int64         \n",
            " 14  HomeFouls              9380 non-null   int64         \n",
            " 15  AwayFouls              9380 non-null   int64         \n",
            " 16  HomeYellowCards        9380 non-null   int64         \n",
            " 17  AwayYellowCards        9380 non-null   int64         \n",
            " 18  HomeRedCards           9380 non-null   int64         \n",
            " 19  AwayRedCards           9380 non-null   int64         \n",
            " 20  match_year             9380 non-null   int32         \n",
            " 21  match_month            9380 non-null   int32         \n",
            " 22  match_day              9380 non-null   int32         \n",
            " 23  HomeTeamID             9380 non-null   int64         \n",
            " 24  AwayTeamID             9380 non-null   int64         \n",
            " 25  local_goles_favor      9380 non-null   float64       \n",
            " 26  local_goles_contra     9380 non-null   float64       \n",
            " 27  local_corners          9380 non-null   float64       \n",
            " 28  local_precision_tiros  9380 non-null   float64       \n",
            " 29  local_victorias        9380 non-null   float64       \n",
            " 30  local_derrotas         9380 non-null   float64       \n",
            " 31  local_amarillas        9380 non-null   float64       \n",
            " 32  local_rojas            9380 non-null   float64       \n",
            " 33  visit_goles_favor      9380 non-null   float64       \n",
            " 34  visit_goles_contra     9380 non-null   float64       \n",
            " 35  visit_corners          9380 non-null   float64       \n",
            " 36  visit_precision_tiros  9380 non-null   float64       \n",
            " 37  visit_victorias        9380 non-null   float64       \n",
            " 38  visit_derrotas         9380 non-null   float64       \n",
            " 39  visit_amarillas        9380 non-null   float64       \n",
            " 40  visit_rojas            9380 non-null   float64       \n",
            "dtypes: datetime64[ns](1), float64(16), int32(3), int64(20), object(1)\n",
            "memory usage: 2.8+ MB\n"
          ]
        }
      ]
    },
    {
      "cell_type": "code",
      "source": [
        "# Eliminar columnas duplicadas con sufijo \"_y\"\n",
        "df_premier = df_premier.drop(columns=[col for col in df_premier.columns if col.endswith('_y')])"
      ],
      "metadata": {
        "id": "MeCuJm5Ryesv"
      },
      "execution_count": 18,
      "outputs": []
    },
    {
      "cell_type": "markdown",
      "source": [
        "A continuación, se define el target (valor que se quiere predecir), las columnas que necesitaremos y los valores de X y Y, para crear el modelo mas adelante y enternarlo."
      ],
      "metadata": {
        "id": "M45LLoX2a6eo"
      }
    },
    {
      "cell_type": "code",
      "source": [
        "# Definir target\n",
        "y = df_premier['FullTimeResult']\n",
        "\n",
        "columnas_features = [\n",
        "    'match_year', 'match_month', 'match_day', 'HomeTeamID', 'AwayTeamID',\n",
        "    'local_goles_favor', 'local_goles_contra', 'local_corners', 'local_precision_tiros',\n",
        "    'local_victorias', 'local_derrotas', 'local_amarillas', 'local_rojas',\n",
        "    'visit_goles_favor', 'visit_goles_contra', 'visit_corners', 'visit_precision_tiros',\n",
        "    'visit_victorias', 'visit_derrotas', 'visit_amarillas', 'visit_rojas'\n",
        "]\n",
        "\n",
        "X = df_premier[columnas_features]\n",
        "y = df_premier['FullTimeResult']\n",
        "\n",
        "\n",
        "# Verificación\n",
        "print(\"Shape de X:\", X.shape)\n",
        "print(\"Shape de y:\", y.shape)"
      ],
      "metadata": {
        "colab": {
          "base_uri": "https://localhost:8080/"
        },
        "id": "SOKr0tLVy_uw",
        "outputId": "06be7bff-8722-4a88-ff9c-22e4ef78a6bb"
      },
      "execution_count": 19,
      "outputs": [
        {
          "output_type": "stream",
          "name": "stdout",
          "text": [
            "Shape de X: (9380, 21)\n",
            "Shape de y: (9380,)\n"
          ]
        }
      ]
    },
    {
      "cell_type": "markdown",
      "source": [
        "Verificacion de los valores, para que esten en el tipo apropiado."
      ],
      "metadata": {
        "id": "QWgpQiLzb92H"
      }
    },
    {
      "cell_type": "code",
      "source": [
        "print(X.dtypes)"
      ],
      "metadata": {
        "colab": {
          "base_uri": "https://localhost:8080/"
        },
        "id": "6ZPbTtBR-2j9",
        "outputId": "d6c60137-4bb5-45ba-d472-bd91c69529e2"
      },
      "execution_count": 20,
      "outputs": [
        {
          "output_type": "stream",
          "name": "stdout",
          "text": [
            "match_year                 int32\n",
            "match_month                int32\n",
            "match_day                  int32\n",
            "HomeTeamID                 int64\n",
            "AwayTeamID                 int64\n",
            "local_goles_favor        float64\n",
            "local_goles_contra       float64\n",
            "local_corners            float64\n",
            "local_precision_tiros    float64\n",
            "local_victorias          float64\n",
            "local_derrotas           float64\n",
            "local_amarillas          float64\n",
            "local_rojas              float64\n",
            "visit_goles_favor        float64\n",
            "visit_goles_contra       float64\n",
            "visit_corners            float64\n",
            "visit_precision_tiros    float64\n",
            "visit_victorias          float64\n",
            "visit_derrotas           float64\n",
            "visit_amarillas          float64\n",
            "visit_rojas              float64\n",
            "dtype: object\n"
          ]
        }
      ]
    },
    {
      "cell_type": "markdown",
      "source": [
        "# Creacion del modelo."
      ],
      "metadata": {
        "id": "FGc01KsNcE64"
      }
    },
    {
      "cell_type": "code",
      "source": [
        "from sklearn.model_selection import train_test_split\n",
        "from sklearn.ensemble import RandomForestClassifier\n",
        "from sklearn.metrics import classification_report, accuracy_score\n",
        "\n",
        "# División\n",
        "X_train, X_test, y_train, y_test = train_test_split(X, y, test_size=0.2, random_state=42)\n",
        "\n",
        "# Entrenamiento\n",
        "modelo_rf = RandomForestClassifier(n_estimators=100, random_state=42, class_weight='balanced')\n",
        "modelo_rf.fit(X_train, y_train)\n",
        "\n",
        "# Evaluación\n",
        "y_pred = modelo_rf.predict(X_test)\n",
        "print(\"Accuracy:\", accuracy_score(y_test, y_pred))\n",
        "print(\"\\nReporte de clasificación:\\n\", classification_report(y_test, y_pred))"
      ],
      "metadata": {
        "colab": {
          "base_uri": "https://localhost:8080/"
        },
        "id": "vDbdwZaQzHrg",
        "outputId": "eccc4bfe-1dc9-4f83-96f6-fdf85c200956"
      },
      "execution_count": 21,
      "outputs": [
        {
          "output_type": "stream",
          "name": "stdout",
          "text": [
            "Accuracy: 0.4632196162046908\n",
            "\n",
            "Reporte de clasificación:\n",
            "               precision    recall  f1-score   support\n",
            "\n",
            "           0       0.31      0.22      0.25       474\n",
            "           1       0.55      0.62      0.58       863\n",
            "           2       0.41      0.43      0.42       539\n",
            "\n",
            "    accuracy                           0.46      1876\n",
            "   macro avg       0.42      0.42      0.42      1876\n",
            "weighted avg       0.45      0.46      0.45      1876\n",
            "\n"
          ]
        }
      ]
    },
    {
      "cell_type": "markdown",
      "source": [
        "Validación de porcentajes sobre los resultado y vereificación"
      ],
      "metadata": {
        "id": "_3_Cch6pcMOX"
      }
    },
    {
      "cell_type": "code",
      "source": [
        "# Frecuencia de clases en el target\n",
        "print(y.value_counts(normalize=True))  # Proporciones"
      ],
      "metadata": {
        "colab": {
          "base_uri": "https://localhost:8080/"
        },
        "id": "hNeVPerSzSrh",
        "outputId": "6f94c309-4786-47ce-88f4-f7880cc3fc6d"
      },
      "execution_count": 22,
      "outputs": [
        {
          "output_type": "stream",
          "name": "stdout",
          "text": [
            "FullTimeResult\n",
            "1    0.458316\n",
            "2    0.295096\n",
            "0    0.246588\n",
            "Name: proportion, dtype: float64\n"
          ]
        }
      ]
    },
    {
      "cell_type": "code",
      "source": [
        "from sklearn.metrics import classification_report\n",
        "print(classification_report(y_test, y_pred))"
      ],
      "metadata": {
        "colab": {
          "base_uri": "https://localhost:8080/"
        },
        "id": "U8T-dUD80teY",
        "outputId": "5a00f670-ef45-4d6a-80fb-f1d9b314587a",
        "collapsed": true
      },
      "execution_count": 23,
      "outputs": [
        {
          "output_type": "stream",
          "name": "stdout",
          "text": [
            "              precision    recall  f1-score   support\n",
            "\n",
            "           0       0.31      0.22      0.25       474\n",
            "           1       0.55      0.62      0.58       863\n",
            "           2       0.41      0.43      0.42       539\n",
            "\n",
            "    accuracy                           0.46      1876\n",
            "   macro avg       0.42      0.42      0.42      1876\n",
            "weighted avg       0.45      0.46      0.45      1876\n",
            "\n"
          ]
        }
      ]
    },
    {
      "cell_type": "markdown",
      "source": [
        "Nuevo modelo realista"
      ],
      "metadata": {
        "id": "CRwLJFkQ1fsl"
      }
    },
    {
      "cell_type": "code",
      "source": [
        "# Convertir 'Season' de '2021/22' a columnas numéricas\n",
        "df_premier[['season_start', 'season_end']] = df_premier['Season'].str.split('/', expand=True)\n",
        "df_premier['season_start'] = df_premier['season_start'].astype(int)\n",
        "df_premier['season_end'] = df_premier['season_start'].astype(str).str[:3] + df_premier['season_end']\n",
        "df_premier['season_end'] = df_premier['season_end'].astype(int)\n",
        "\n",
        "# Crear columna final opcional (puedes usar la de inicio para el modelo)\n",
        "df_premier['season_numeric'] = df_premier['season_start']"
      ],
      "metadata": {
        "id": "4r7YIP3PAzmk"
      },
      "execution_count": 24,
      "outputs": []
    },
    {
      "cell_type": "code",
      "source": [
        "# Lista de columnas válidas para predecir (disponibles antes del partido)\n",
        "columnas_validas = [\n",
        "    'season_numeric',\n",
        "\n",
        "    'match_year', 'match_month', 'match_day',\n",
        "    'HomeTeamID', 'AwayTeamID',\n",
        "\n",
        "    'local_goles_favor', 'local_goles_contra', 'local_corners',\n",
        "    'local_precision_tiros', 'local_victorias', 'local_derrotas',\n",
        "    'local_amarillas', 'local_rojas',\n",
        "\n",
        "    'visit_goles_favor', 'visit_goles_contra', 'visit_corners',\n",
        "    'visit_precision_tiros', 'visit_victorias', 'visit_derrotas',\n",
        "    'visit_amarillas', 'visit_rojas'\n",
        "]\n",
        "\n",
        "# Dataset final para el modelo\n",
        "X_real = df_premier[columnas_validas]\n",
        "y_real = df_premier['FullTimeResult']\n"
      ],
      "metadata": {
        "id": "j1xv1U900ul1"
      },
      "execution_count": 25,
      "outputs": []
    },
    {
      "cell_type": "code",
      "source": [
        "print(df_premier.columns.tolist())\n"
      ],
      "metadata": {
        "colab": {
          "base_uri": "https://localhost:8080/"
        },
        "id": "GSN3qIvGASks",
        "outputId": "9371d72a-d612-47ca-be7e-021fd9f9b6d4"
      },
      "execution_count": 26,
      "outputs": [
        {
          "output_type": "stream",
          "name": "stdout",
          "text": [
            "['Season', 'MatchDate', 'FullTimeHomeGoals', 'FullTimeAwayGoals', 'FullTimeResult', 'HalfTimeHomeGoals', 'HalfTimeAwayGoals', 'HalfTimeResult', 'HomeShots', 'AwayShots', 'HomeShotsOnTarget', 'AwayShotsOnTarget', 'HomeCorners', 'AwayCorners', 'HomeFouls', 'AwayFouls', 'HomeYellowCards', 'AwayYellowCards', 'HomeRedCards', 'AwayRedCards', 'match_year', 'match_month', 'match_day', 'HomeTeamID', 'AwayTeamID', 'local_goles_favor', 'local_goles_contra', 'local_corners', 'local_precision_tiros', 'local_victorias', 'local_derrotas', 'local_amarillas', 'local_rojas', 'visit_goles_favor', 'visit_goles_contra', 'visit_corners', 'visit_precision_tiros', 'visit_victorias', 'visit_derrotas', 'visit_amarillas', 'visit_rojas', 'season_start', 'season_end', 'season_numeric']\n"
          ]
        }
      ]
    },
    {
      "cell_type": "code",
      "source": [
        "# Mapeo de nombres estadísticos base a nombres esperados por el modelo\n",
        "mapa_columnas = {\n",
        "    'prom_goles_favor': 'goles_favor_x',\n",
        "    'prom_goles_contra': 'goles_contra_x',\n",
        "    'prom_corners': 'corners_x',\n",
        "    'precision_tiros': 'precision_tiros_x',\n",
        "    'prom_victorias': 'victorias_x',\n",
        "    'prom_derrotas': 'derrotas_x',\n",
        "    'prom_amarillas': 'amarillas_x',\n",
        "    'prom_rojas': 'rojas_x'\n",
        "}\n",
        "\n",
        "def renombrar_columnas(stats_df, prefijo):\n",
        "    # stats_df: dataframe con columnas base como prom_goles_favor, etc.\n",
        "    # prefijo: 'local' o 'visit'\n",
        "    nueva_cols = ['EquipoID']\n",
        "    for col in stats_df.columns:\n",
        "        if col == 'EquipoID':\n",
        "            continue\n",
        "        if col in mapa_columnas:\n",
        "            nueva_cols.append(f\"{prefijo}_{mapa_columnas[col]}\")\n",
        "        else:\n",
        "            nueva_cols.append(col)\n",
        "    stats_df.columns = nueva_cols\n",
        "    return stats_df\n"
      ],
      "metadata": {
        "id": "Ptwyx6jV4Tkl"
      },
      "execution_count": 27,
      "outputs": []
    },
    {
      "cell_type": "code",
      "source": [
        "from sklearn.model_selection import train_test_split\n",
        "from sklearn.ensemble import RandomForestClassifier\n",
        "from sklearn.metrics import classification_report, accuracy_score\n",
        "\n",
        "# División\n",
        "X_train, X_test, y_train, y_test = train_test_split(X_real, y_real, test_size=0.2, random_state=42)\n",
        "\n",
        "# Entrenar modelo con balance de clases\n",
        "modelo_rf_real = RandomForestClassifier(n_estimators=100, random_state=42, class_weight='balanced')\n",
        "modelo_rf_real.fit(X_train, y_train)\n",
        "\n",
        "# Evaluar\n",
        "y_pred = modelo_rf_real.predict(X_test)\n",
        "print(\"Accuracy:\", accuracy_score(y_test, y_pred))\n",
        "print(\"\\nReporte de clasificación:\\n\", classification_report(y_test, y_pred))"
      ],
      "metadata": {
        "colab": {
          "base_uri": "https://localhost:8080/"
        },
        "id": "zAsa3n6T1k3M",
        "outputId": "29945fb7-5aa3-48d9-8107-dc93dc14d97a"
      },
      "execution_count": 28,
      "outputs": [
        {
          "output_type": "stream",
          "name": "stdout",
          "text": [
            "Accuracy: 0.46588486140724944\n",
            "\n",
            "Reporte de clasificación:\n",
            "               precision    recall  f1-score   support\n",
            "\n",
            "           0       0.28      0.20      0.23       474\n",
            "           1       0.55      0.64      0.59       863\n",
            "           2       0.42      0.42      0.42       539\n",
            "\n",
            "    accuracy                           0.47      1876\n",
            "   macro avg       0.42      0.42      0.42      1876\n",
            "weighted avg       0.45      0.47      0.45      1876\n",
            "\n"
          ]
        }
      ]
    },
    {
      "cell_type": "code",
      "source": [
        "print(\"Columnas de df_stats_equipos:\")\n",
        "print(df_stats_equipos.columns.tolist())\n",
        "print(df_stats_equipos.head())\n",
        "\n",
        "print(\"\\nColumnas de df_premier:\")\n",
        "print(df_premier.columns.tolist())\n",
        "print(df_premier.head())"
      ],
      "metadata": {
        "colab": {
          "base_uri": "https://localhost:8080/"
        },
        "collapsed": true,
        "id": "LLCZ1NqfE5gF",
        "outputId": "e6e1bbd4-905a-4c94-bb99-f6c482dfa2b6"
      },
      "execution_count": 29,
      "outputs": [
        {
          "output_type": "stream",
          "name": "stdout",
          "text": [
            "Columnas de df_stats_equipos:\n",
            "['EquipoID', 'prom_goles_favor', 'prom_goles_contra', 'prom_corners', 'precision_tiros', 'prom_victorias', 'prom_derrotas', 'prom_amarillas', 'prom_rojas']\n",
            "   EquipoID  prom_goles_favor  prom_goles_contra  prom_corners  \\\n",
            "0        12          1.141166           1.452464      5.069291   \n",
            "1        13          1.815109           0.962764      6.156284   \n",
            "2        14          0.947368           1.657895      5.421053   \n",
            "3        16          0.789474           1.850877      4.184211   \n",
            "4        22          1.383001           1.598209      5.491544   \n",
            "\n",
            "   precision_tiros  prom_victorias  prom_derrotas  prom_amarillas  prom_rojas  \n",
            "0         0.523350        0.322416       0.418089        1.290024    0.077644  \n",
            "1         0.444567        0.568763       0.201786        1.683271    0.072588  \n",
            "2         0.455959        0.210526       0.526316        2.000000    0.105263  \n",
            "3         0.497276        0.166667       0.605263        1.850877    0.052632  \n",
            "4         0.424894        0.352437       0.421697        2.012184    0.080564  \n",
            "\n",
            "Columnas de df_premier:\n",
            "['Season', 'MatchDate', 'FullTimeHomeGoals', 'FullTimeAwayGoals', 'FullTimeResult', 'HalfTimeHomeGoals', 'HalfTimeAwayGoals', 'HalfTimeResult', 'HomeShots', 'AwayShots', 'HomeShotsOnTarget', 'AwayShotsOnTarget', 'HomeCorners', 'AwayCorners', 'HomeFouls', 'AwayFouls', 'HomeYellowCards', 'AwayYellowCards', 'HomeRedCards', 'AwayRedCards', 'match_year', 'match_month', 'match_day', 'HomeTeamID', 'AwayTeamID', 'local_goles_favor', 'local_goles_contra', 'local_corners', 'local_precision_tiros', 'local_victorias', 'local_derrotas', 'local_amarillas', 'local_rojas', 'visit_goles_favor', 'visit_goles_contra', 'visit_corners', 'visit_precision_tiros', 'visit_victorias', 'visit_derrotas', 'visit_amarillas', 'visit_rojas', 'season_start', 'season_end', 'season_numeric']\n",
            "    Season  MatchDate  FullTimeHomeGoals  FullTimeAwayGoals  FullTimeResult  \\\n",
            "0  2000/01 2000-08-19                  4                  0               1   \n",
            "1  2000/01 2000-08-19                  4                  2               1   \n",
            "2  2000/01 2000-08-19                  1                  3               2   \n",
            "3  2000/01 2000-08-19                  2                  2               0   \n",
            "4  2000/01 2000-08-19                  2                  0               1   \n",
            "\n",
            "   HalfTimeHomeGoals  HalfTimeAwayGoals  HalfTimeResult  HomeShots  AwayShots  \\\n",
            "0                  2                  0               1         17          8   \n",
            "1                  1                  0               1         17         12   \n",
            "2                  1                  1               0          6         16   \n",
            "3                  1                  2               2          6         13   \n",
            "4                  2                  0               1         17         12   \n",
            "\n",
            "   ...  visit_goles_contra  visit_corners  visit_precision_tiros  \\\n",
            "0  ...            1.050000       6.576667               0.439792   \n",
            "1  ...            1.498397       5.101437               0.411852   \n",
            "2  ...            1.331161       4.780171               0.495937   \n",
            "3  ...            1.478376       5.279984               0.391018   \n",
            "4  ...            1.269316       5.363853               0.443218   \n",
            "\n",
            "   visit_victorias  visit_derrotas  visit_amarillas  visit_rojas  \\\n",
            "0         0.555556        0.255556         1.514444     0.074444   \n",
            "1         0.326433        0.423870         1.684413     0.070859   \n",
            "2         0.279115        0.433343         1.624628     0.086140   \n",
            "3         0.293179        0.437147         1.508469     0.069342   \n",
            "4         0.370563        0.351075         1.614575     0.084255   \n",
            "\n",
            "   season_start  season_end  season_numeric  \n",
            "0          2000       20001            2000  \n",
            "1          2000       20001            2000  \n",
            "2          2000       20001            2000  \n",
            "3          2000       20001            2000  \n",
            "4          2000       20001            2000  \n",
            "\n",
            "[5 rows x 44 columns]\n"
          ]
        }
      ]
    },
    {
      "cell_type": "code",
      "source": [
        "print(\"Columnas usadas en X_real:\")\n",
        "print(X_real.columns.tolist())"
      ],
      "metadata": {
        "colab": {
          "base_uri": "https://localhost:8080/"
        },
        "collapsed": true,
        "id": "1Xf2iZ_jFFHI",
        "outputId": "0c9bdd34-1247-4bb3-96f1-c916f9552435"
      },
      "execution_count": 30,
      "outputs": [
        {
          "output_type": "stream",
          "name": "stdout",
          "text": [
            "Columnas usadas en X_real:\n",
            "['season_numeric', 'match_year', 'match_month', 'match_day', 'HomeTeamID', 'AwayTeamID', 'local_goles_favor', 'local_goles_contra', 'local_corners', 'local_precision_tiros', 'local_victorias', 'local_derrotas', 'local_amarillas', 'local_rojas', 'visit_goles_favor', 'visit_goles_contra', 'visit_corners', 'visit_precision_tiros', 'visit_victorias', 'visit_derrotas', 'visit_amarillas', 'visit_rojas']\n"
          ]
        }
      ]
    },
    {
      "cell_type": "markdown",
      "source": [
        "Funcion de prediccion"
      ],
      "metadata": {
        "id": "tZ-THCMG1_kX"
      }
    },
    {
      "cell_type": "code",
      "source": [
        "def crear_df_prediccion(nombre_local, nombre_visitante, equipos_df, df_stats_equipos, X_columns):\n",
        "    import pandas as pd\n",
        "\n",
        "    # Obtener IDs de los equipos\n",
        "    try:\n",
        "        id_local = equipos_df.loc[equipos_df['Equipo'] == nombre_local, 'EquipoID'].values[0]\n",
        "        id_visit = equipos_df.loc[equipos_df['Equipo'] == nombre_visitante, 'EquipoID'].values[0]\n",
        "    except IndexError:\n",
        "        raise ValueError(\"Uno de los equipos no fue encontrado.\")\n",
        "\n",
        "    # Estadísticas base para local y visitante\n",
        "    stats_local = df_stats_equipos[df_stats_equipos['EquipoID'] == id_local].copy()\n",
        "    stats_visit = df_stats_equipos[df_stats_equipos['EquipoID'] == id_visit].copy()\n",
        "\n",
        "    # Mapeo base -> columnas usadas en modelo (sin prefijo)\n",
        "    mapa_columnas = {\n",
        "        'prom_goles_favor': 'goles_favor',\n",
        "        'prom_goles_contra': 'goles_contra',\n",
        "        'prom_corners': 'corners',\n",
        "        'precision_tiros': 'precision_tiros',\n",
        "        'prom_victorias': 'victorias',\n",
        "        'prom_derrotas': 'derrotas',\n",
        "        'prom_amarillas': 'amarillas',\n",
        "        'prom_rojas': 'rojas'\n",
        "    }\n",
        "\n",
        "    def renombrar_cols(stats_df, prefijo):\n",
        "        nueva_cols = ['EquipoID']\n",
        "        for col in stats_df.columns:\n",
        "            if col == 'EquipoID':\n",
        "                continue\n",
        "            if col in mapa_columnas:\n",
        "                nueva_cols.append(f\"{prefijo}_{mapa_columnas[col]}\")\n",
        "            else:\n",
        "                nueva_cols.append(col)\n",
        "        stats_df.columns = nueva_cols\n",
        "        return stats_df\n",
        "\n",
        "    stats_local = renombrar_cols(stats_local, 'local')\n",
        "    stats_visit = renombrar_cols(stats_visit, 'visit')\n",
        "\n",
        "    # Crear DataFrame base para el partido con datos ficticios o reales según corresponda\n",
        "    datos_partido = {\n",
        "        'season_numeric': [20250],  # Ajusta este valor según tu dataset\n",
        "        'match_year': [2025],\n",
        "        'match_month': [8],\n",
        "        'match_day': [15],\n",
        "        'HomeTeamID': [id_local],\n",
        "        'AwayTeamID': [id_visit]\n",
        "    }\n",
        "    df_pred = pd.DataFrame(datos_partido)\n",
        "\n",
        "    # Unir las estadísticas locales y visitantes\n",
        "    df_pred = df_pred.merge(stats_local, left_on='HomeTeamID', right_on='EquipoID', how='left')\n",
        "    df_pred = df_pred.merge(stats_visit, left_on='AwayTeamID', right_on='EquipoID', how='left')\n",
        "    df_pred.drop(columns=['EquipoID_x', 'EquipoID_y'], inplace=True)\n",
        "\n",
        "    # Reordenar columnas para que coincidan con el modelo\n",
        "    df_pred = df_pred.reindex(columns=X_columns)\n",
        "\n",
        "    # Validar que no falten columnas\n",
        "    faltantes = set(X_columns) - set(df_pred.columns)\n",
        "    if len(faltantes) > 0:\n",
        "        raise ValueError(f\"Faltan columnas en el DataFrame de predicción: {faltantes}\")\n",
        "\n",
        "    return df_pred"
      ],
      "metadata": {
        "id": "EupVm_1L2Bb6"
      },
      "execution_count": 31,
      "outputs": []
    },
    {
      "cell_type": "markdown",
      "source": [
        "Ingreso de valores a la función para la ejecución"
      ],
      "metadata": {
        "id": "eHWweGTIcgjX"
      }
    },
    {
      "cell_type": "code",
      "source": [
        "def predecir_resultado_partido(nombre_local, nombre_visitante):\n",
        "    try:\n",
        "        df_pred = crear_df_prediccion(nombre_local, nombre_visitante, equipos_df, df_stats_equipos, X_real.columns)\n",
        "    except ValueError as e:\n",
        "        return f\"Error: {e}\"\n",
        "\n",
        "    pred = modelo_rf_real.predict(df_pred)[0]\n",
        "    resultado = {0: 'Empate', 1: 'Gana Local', 2: 'Gana Visitante'}\n",
        "    return f\"Resultado predicho: {resultado[pred]}\""
      ],
      "metadata": {
        "id": "sDzH90DO2Sez"
      },
      "execution_count": 32,
      "outputs": []
    },
    {
      "cell_type": "code",
      "source": [
        "import ipywidgets as widgets\n",
        "from IPython.display import display\n",
        "\n",
        "def predecir_resultado_interactivo():\n",
        "    equipos = sorted(equipos_df['Equipo'].unique())\n",
        "\n",
        "    # Crear dropdowns para seleccionar equipos\n",
        "    dropdown_local = widgets.Dropdown(\n",
        "        options=equipos,\n",
        "        description='Local:',\n",
        "        disabled=False,\n",
        "    )\n",
        "\n",
        "    dropdown_visitante = widgets.Dropdown(\n",
        "        options=equipos,\n",
        "        description='Visitante:',\n",
        "        disabled=False,\n",
        "    )\n",
        "\n",
        "    button = widgets.Button(description=\"Predecir Resultado\")\n",
        "\n",
        "    output = widgets.Output()\n",
        "\n",
        "    def on_button_clicked(b):\n",
        "        with output:\n",
        "            output.clear_output()\n",
        "            nombre_local = dropdown_local.value\n",
        "            nombre_visitante = dropdown_visitante.value\n",
        "            resultado = predecir_resultado_partido(nombre_local, nombre_visitante)\n",
        "            print(resultado)\n",
        "\n",
        "    button.on_click(on_button_clicked)\n",
        "\n",
        "    display(dropdown_local, dropdown_visitante, button, output)"
      ],
      "metadata": {
        "id": "9uTEScJIF1cf"
      },
      "execution_count": 33,
      "outputs": []
    },
    {
      "cell_type": "markdown",
      "source": [
        "# *Ingreso funciónal*"
      ],
      "metadata": {
        "id": "PyPtLRTIctcm"
      }
    },
    {
      "cell_type": "code",
      "source": [
        "predecir_resultado_interactivo()"
      ],
      "metadata": {
        "colab": {
          "base_uri": "https://localhost:8080/",
          "height": 111,
          "referenced_widgets": [
            "15ced72ea2d84dde9db028e171233848",
            "10e4577aba934b9582e14c59efc3e59a",
            "0d854b0e73d84f1a8859863d9d683ff2",
            "b00e159dbb2644cba022b43bd6a97369",
            "cad1d0cd17a04ee8862eb795a9c935e8",
            "ccedb07dcf0747f6bdcb5759a5a3ad9d",
            "d6df973f24d84985b0986bd5026a21ca",
            "fab0a97a6c3c4cb6adf134f2e7d19a91",
            "98159dac28cf46369fda8fad190b8ed4",
            "f6ea1923b6fd4a64a2cb47a0da7aa9b9",
            "ab65c20183b64c188341a38536d93d5e"
          ]
        },
        "id": "CXXm-Xz_2Wal",
        "outputId": "a03855f0-f26c-4901-e8ae-c5b79a905233"
      },
      "execution_count": 34,
      "outputs": [
        {
          "output_type": "display_data",
          "data": {
            "text/plain": [
              "Dropdown(description='Local:', options=('Arsenal', 'Aston Villa', 'Birmingham', 'Blackburn', 'Blackpool', 'Bol…"
            ],
            "application/vnd.jupyter.widget-view+json": {
              "version_major": 2,
              "version_minor": 0,
              "model_id": "15ced72ea2d84dde9db028e171233848"
            }
          },
          "metadata": {}
        },
        {
          "output_type": "display_data",
          "data": {
            "text/plain": [
              "Dropdown(description='Visitante:', options=('Arsenal', 'Aston Villa', 'Birmingham', 'Blackburn', 'Blackpool', …"
            ],
            "application/vnd.jupyter.widget-view+json": {
              "version_major": 2,
              "version_minor": 0,
              "model_id": "b00e159dbb2644cba022b43bd6a97369"
            }
          },
          "metadata": {}
        },
        {
          "output_type": "display_data",
          "data": {
            "text/plain": [
              "Button(description='Predecir Resultado', style=ButtonStyle())"
            ],
            "application/vnd.jupyter.widget-view+json": {
              "version_major": 2,
              "version_minor": 0,
              "model_id": "d6df973f24d84985b0986bd5026a21ca"
            }
          },
          "metadata": {}
        },
        {
          "output_type": "display_data",
          "data": {
            "text/plain": [
              "Output()"
            ],
            "application/vnd.jupyter.widget-view+json": {
              "version_major": 2,
              "version_minor": 0,
              "model_id": "f6ea1923b6fd4a64a2cb47a0da7aa9b9"
            }
          },
          "metadata": {}
        }
      ]
    },
    {
      "cell_type": "markdown",
      "source": [
        "# Grafica basada en predicción"
      ],
      "metadata": {
        "id": "lE4ZFlkIczx-"
      }
    },
    {
      "cell_type": "markdown",
      "source": [
        "Se realiza una grafica, utilizando el modelo de prediccion anterior, en la cual utlizamos un equipo de nuestros datos (Liverpool) para obtener una prediccion de goles en los proximos 10 años."
      ],
      "metadata": {
        "id": "NhxUehz6c6nB"
      }
    },
    {
      "cell_type": "code",
      "source": [
        "import matplotlib.pyplot as plt\n",
        "import numpy as np\n",
        "from sklearn.linear_model import LinearRegression\n",
        "\n",
        "def grafico_con_sombreado(df, equipo_nombre, metric='prom_goles_favor', periodo='season_numeric', años_futuro=10):\n",
        "    id_equipo = equipos_df[equipos_df['Equipo'] == equipo_nombre]['EquipoID'].values[0]\n",
        "\n",
        "    # Filtrar datos históricos para el equipo (ejemplo para goles a favor)\n",
        "    partidos_local = df[df['HomeTeamID'] == id_equipo].copy()\n",
        "    partidos_local['metric'] = partidos_local['FullTimeHomeGoals'] if metric == 'prom_goles_favor' else None\n",
        "\n",
        "    partidos_visit = df[df['AwayTeamID'] == id_equipo].copy()\n",
        "    partidos_visit['metric'] = partidos_visit['FullTimeAwayGoals'] if metric == 'prom_goles_favor' else None\n",
        "\n",
        "    partidos = pd.concat([partidos_local, partidos_visit])\n",
        "\n",
        "    resumen = partidos.groupby(periodo)['metric'].mean().reset_index().dropna()\n",
        "\n",
        "    X = resumen[periodo].values.reshape(-1, 1)\n",
        "    y = resumen['metric'].values\n",
        "\n",
        "    model = LinearRegression()\n",
        "    model.fit(X, y)\n",
        "\n",
        "    # Predicción futura\n",
        "    futuro_x = np.array([resumen[periodo].max() + i for i in range(1, años_futuro + 1)]).reshape(-1, 1)\n",
        "    futuro_y = model.predict(futuro_x)\n",
        "\n",
        "    # Para sombreado simple: calcular residual std para banda ±1 std\n",
        "    residuals = y - model.predict(X)\n",
        "    std_res = np.std(residuals)\n",
        "\n",
        "    plt.figure(figsize=(12,6))\n",
        "    plt.plot(resumen[periodo], y, 'o-', label='Histórico', color='blue')\n",
        "    plt.plot(futuro_x, futuro_y, 'o--', label='Proyección futura', color='red')\n",
        "    plt.fill_between(futuro_x.flatten(), futuro_y - std_res, futuro_y + std_res, color='red', alpha=0.2, label='Confianza ±1 std')\n",
        "\n",
        "    plt.title(f'Proyección con banda de confianza para {metric} - {equipo_nombre}')\n",
        "    plt.xlabel('Temporada')\n",
        "    plt.ylabel(metric)\n",
        "    plt.legend()\n",
        "    plt.grid(True)\n",
        "    plt.show()\n",
        "\n",
        "grafico_con_sombreado(df_premier, 'Liverpool', metric='prom_goles_favor', periodo='season_numeric', años_futuro=10)"
      ],
      "metadata": {
        "id": "ih_jz99R7pt-",
        "colab": {
          "base_uri": "https://localhost:8080/",
          "height": 573
        },
        "outputId": "9427f1d0-e660-4c28-f8e1-369780ca8a7f"
      },
      "execution_count": 35,
      "outputs": [
        {
          "output_type": "display_data",
          "data": {
            "text/plain": [
              "<Figure size 1200x600 with 1 Axes>"
            ],
            "image/png": "[encoded data removed]"
          },
          "metadata": {}
        }
      ]
    },
    {
      "cell_type": "markdown",
      "source": [
        "# Modelo de regresión logistica"
      ],
      "metadata": {
        "id": "zb5_a4yl4kz9"
      }
    },
    {
      "cell_type": "code",
      "source": [
        "from sklearn.linear_model import LogisticRegression\n",
        "\n",
        "# Entrenar modelo de regresión logística\n",
        "modelo_lr_real = LogisticRegression(\n",
        "    max_iter=1000,\n",
        "    class_weight='balanced',\n",
        "    multi_class='multinomial',\n",
        "    solver='lbfgs',\n",
        "    random_state=42\n",
        ")\n",
        "modelo_lr_real.fit(X_train, y_train)"
      ],
      "metadata": {
        "colab": {
          "base_uri": "https://localhost:8080/",
          "height": 291
        },
        "id": "Qaqjfyrh4oks",
        "outputId": "764c47c0-c7d3-43d0-cbfc-70473c70ab56"
      },
      "execution_count": 36,
      "outputs": [
        {
          "output_type": "stream",
          "name": "stderr",
          "text": [
            "/usr/local/lib/python3.11/dist-packages/sklearn/linear_model/_logistic.py:1247: FutureWarning: 'multi_class' was deprecated in version 1.5 and will be removed in 1.7. From then on, it will always use 'multinomial'. Leave it to its default value to avoid this warning.\n",
            "  warnings.warn(\n",
            "/usr/local/lib/python3.11/dist-packages/sklearn/linear_model/_logistic.py:465: ConvergenceWarning: lbfgs failed to converge (status=1):\n",
            "STOP: TOTAL NO. OF ITERATIONS REACHED LIMIT.\n",
            "\n",
            "Increase the number of iterations (max_iter) or scale the data as shown in:\n",
            "    https://scikit-learn.org/stable/modules/preprocessing.html\n",
            "Please also refer to the documentation for alternative solver options:\n",
            "    https://scikit-learn.org/stable/modules/linear_model.html#logistic-regression\n",
            "  n_iter_i = _check_optimize_result(\n"
          ]
        },
        {
          "output_type": "execute_result",
          "data": {
            "text/plain": [
              "LogisticRegression(class_weight='balanced', max_iter=1000,\n",
              "                   multi_class='multinomial', random_state=42)"
            ],
            "text/html": [
              "<style>#sk-container-id-1 {\n",
              "  /* Definition of color scheme common for light and dark mode */\n",
              "  --sklearn-color-text: #000;\n",
              "  --sklearn-color-text-muted: #666;\n",
              "  --sklearn-color-line: gray;\n",
              "  /* Definition of color scheme for unfitted estimators */\n",
              "  --sklearn-color-unfitted-level-0: #fff5e6;\n",
              "  --sklearn-color-unfitted-level-1: #f6e4d2;\n",
              "  --sklearn-color-unfitted-level-2: #ffe0b3;\n",
              "  --sklearn-color-unfitted-level-3: chocolate;\n",
              "  /* Definition of color scheme for fitted estimators */\n",
              "  --sklearn-color-fitted-level-0: #f0f8ff;\n",
              "  --sklearn-color-fitted-level-1: #d4ebff;\n",
              "  --sklearn-color-fitted-level-2: #b3dbfd;\n",
              "  --sklearn-color-fitted-level-3: cornflowerblue;\n",
              "\n",
              "  /* Specific color for light theme */\n",
              "  --sklearn-color-text-on-default-background: var(--sg-text-color, var(--theme-code-foreground, var(--jp-content-font-color1, black)));\n",
              "  --sklearn-color-background: var(--sg-background-color, var(--theme-background, var(--jp-layout-color0, white)));\n",
              "  --sklearn-color-border-box: var(--sg-text-color, var(--theme-code-foreground, var(--jp-content-font-color1, black)));\n",
              "  --sklearn-color-icon: #696969;\n",
              "\n",
              "  @media (prefers-color-scheme: dark) {\n",
              "    /* Redefinition of color scheme for dark theme */\n",
              "    --sklearn-color-text-on-default-background: var(--sg-text-color, var(--theme-code-foreground, var(--jp-content-font-color1, white)));\n",
              "    --sklearn-color-background: var(--sg-background-color, var(--theme-background, var(--jp-layout-color0, #111)));\n",
              "    --sklearn-color-border-box: var(--sg-text-color, var(--theme-code-foreground, var(--jp-content-font-color1, white)));\n",
              "    --sklearn-color-icon: #878787;\n",
              "  }\n",
              "}\n",
              "\n",
              "#sk-container-id-1 {\n",
              "  color: var(--sklearn-color-text);\n",
              "}\n",
              "\n",
              "#sk-container-id-1 pre {\n",
              "  padding: 0;\n",
              "}\n",
              "\n",
              "#sk-container-id-1 input.sk-hidden--visually {\n",
              "  border: 0;\n",
              "  clip: rect(1px 1px 1px 1px);\n",
              "  clip: rect(1px, 1px, 1px, 1px);\n",
              "  height: 1px;\n",
              "  margin: -1px;\n",
              "  overflow: hidden;\n",
              "  padding: 0;\n",
              "  position: absolute;\n",
              "  width: 1px;\n",
              "}\n",
              "\n",
              "#sk-container-id-1 div.sk-dashed-wrapped {\n",
              "  border: 1px dashed var(--sklearn-color-line);\n",
              "  margin: 0 0.4em 0.5em 0.4em;\n",
              "  box-sizing: border-box;\n",
              "  padding-bottom: 0.4em;\n",
              "  background-color: var(--sklearn-color-background);\n",
              "}\n",
              "\n",
              "#sk-container-id-1 div.sk-container {\n",
              "  /* jupyter's `normalize.less` sets `[hidden] { display: none; }`\n",
              "     but bootstrap.min.css set `[hidden] { display: none !important; }`\n",
              "     so we also need the `!important` here to be able to override the\n",
              "     default hidden behavior on the sphinx rendered scikit-learn.org.\n",
              "     See: https://github.com/scikit-learn/scikit-learn/issues/21755 */\n",
              "  display: inline-block !important;\n",
              "  position: relative;\n",
              "}\n",
              "\n",
              "#sk-container-id-1 div.sk-text-repr-fallback {\n",
              "  display: none;\n",
              "}\n",
              "\n",
              "div.sk-parallel-item,\n",
              "div.sk-serial,\n",
              "div.sk-item {\n",
              "  /* draw centered vertical line to link estimators */\n",
              "  background-image: linear-gradient(var(--sklearn-color-text-on-default-background), var(--sklearn-color-text-on-default-background));\n",
              "  background-size: 2px 100%;\n",
              "  background-repeat: no-repeat;\n",
              "  background-position: center center;\n",
              "}\n",
              "\n",
              "/* Parallel-specific style estimator block */\n",
              "\n",
              "#sk-container-id-1 div.sk-parallel-item::after {\n",
              "  content: \"\";\n",
              "  width: 100%;\n",
              "  border-bottom: 2px solid var(--sklearn-color-text-on-default-background);\n",
              "  flex-grow: 1;\n",
              "}\n",
              "\n",
              "#sk-container-id-1 div.sk-parallel {\n",
              "  display: flex;\n",
              "  align-items: stretch;\n",
              "  justify-content: center;\n",
              "  background-color: var(--sklearn-color-background);\n",
              "  position: relative;\n",
              "}\n",
              "\n",
              "#sk-container-id-1 div.sk-parallel-item {\n",
              "  display: flex;\n",
              "  flex-direction: column;\n",
              "}\n",
              "\n",
              "#sk-container-id-1 div.sk-parallel-item:first-child::after {\n",
              "  align-self: flex-end;\n",
              "  width: 50%;\n",
              "}\n",
              "\n",
              "#sk-container-id-1 div.sk-parallel-item:last-child::after {\n",
              "  align-self: flex-start;\n",
              "  width: 50%;\n",
              "}\n",
              "\n",
              "#sk-container-id-1 div.sk-parallel-item:only-child::after {\n",
              "  width: 0;\n",
              "}\n",
              "\n",
              "/* Serial-specific style estimator block */\n",
              "\n",
              "#sk-container-id-1 div.sk-serial {\n",
              "  display: flex;\n",
              "  flex-direction: column;\n",
              "  align-items: center;\n",
              "  background-color: var(--sklearn-color-background);\n",
              "  padding-right: 1em;\n",
              "  padding-left: 1em;\n",
              "}\n",
              "\n",
              "\n",
              "/* Toggleable style: style used for estimator/Pipeline/ColumnTransformer box that is\n",
              "clickable and can be expanded/collapsed.\n",
              "- Pipeline and ColumnTransformer use this feature and define the default style\n",
              "- Estimators will overwrite some part of the style using the `sk-estimator` class\n",
              "*/\n",
              "\n",
              "/* Pipeline and ColumnTransformer style (default) */\n",
              "\n",
              "#sk-container-id-1 div.sk-toggleable {\n",
              "  /* Default theme specific background. It is overwritten whether we have a\n",
              "  specific estimator or a Pipeline/ColumnTransformer */\n",
              "  background-color: var(--sklearn-color-background);\n",
              "}\n",
              "\n",
              "/* Toggleable label */\n",
              "#sk-container-id-1 label.sk-toggleable__label {\n",
              "  cursor: pointer;\n",
              "  display: flex;\n",
              "  width: 100%;\n",
              "  margin-bottom: 0;\n",
              "  padding: 0.5em;\n",
              "  box-sizing: border-box;\n",
              "  text-align: center;\n",
              "  align-items: start;\n",
              "  justify-content: space-between;\n",
              "  gap: 0.5em;\n",
              "}\n",
              "\n",
              "#sk-container-id-1 label.sk-toggleable__label .caption {\n",
              "  font-size: 0.6rem;\n",
              "  font-weight: lighter;\n",
              "  color: var(--sklearn-color-text-muted);\n",
              "}\n",
              "\n",
              "#sk-container-id-1 label.sk-toggleable__label-arrow:before {\n",
              "  /* Arrow on the left of the label */\n",
              "  content: \"▸\";\n",
              "  float: left;\n",
              "  margin-right: 0.25em;\n",
              "  color: var(--sklearn-color-icon);\n",
              "}\n",
              "\n",
              "#sk-container-id-1 label.sk-toggleable__label-arrow:hover:before {\n",
              "  color: var(--sklearn-color-text);\n",
              "}\n",
              "\n",
              "/* Toggleable content - dropdown */\n",
              "\n",
              "#sk-container-id-1 div.sk-toggleable__content {\n",
              "  max-height: 0;\n",
              "  max-width: 0;\n",
              "  overflow: hidden;\n",
              "  text-align: left;\n",
              "  /* unfitted */\n",
              "  background-color: var(--sklearn-color-unfitted-level-0);\n",
              "}\n",
              "\n",
              "#sk-container-id-1 div.sk-toggleable__content.fitted {\n",
              "  /* fitted */\n",
              "  background-color: var(--sklearn-color-fitted-level-0);\n",
              "}\n",
              "\n",
              "#sk-container-id-1 div.sk-toggleable__content pre {\n",
              "  margin: 0.2em;\n",
              "  border-radius: 0.25em;\n",
              "  color: var(--sklearn-color-text);\n",
              "  /* unfitted */\n",
              "  background-color: var(--sklearn-color-unfitted-level-0);\n",
              "}\n",
              "\n",
              "#sk-container-id-1 div.sk-toggleable__content.fitted pre {\n",
              "  /* unfitted */\n",
              "  background-color: var(--sklearn-color-fitted-level-0);\n",
              "}\n",
              "\n",
              "#sk-container-id-1 input.sk-toggleable__control:checked~div.sk-toggleable__content {\n",
              "  /* Expand drop-down */\n",
              "  max-height: 200px;\n",
              "  max-width: 100%;\n",
              "  overflow: auto;\n",
              "}\n",
              "\n",
              "#sk-container-id-1 input.sk-toggleable__control:checked~label.sk-toggleable__label-arrow:before {\n",
              "  content: \"▾\";\n",
              "}\n",
              "\n",
              "/* Pipeline/ColumnTransformer-specific style */\n",
              "\n",
              "#sk-container-id-1 div.sk-label input.sk-toggleable__control:checked~label.sk-toggleable__label {\n",
              "  color: var(--sklearn-color-text);\n",
              "  background-color: var(--sklearn-color-unfitted-level-2);\n",
              "}\n",
              "\n",
              "#sk-container-id-1 div.sk-label.fitted input.sk-toggleable__control:checked~label.sk-toggleable__label {\n",
              "  background-color: var(--sklearn-color-fitted-level-2);\n",
              "}\n",
              "\n",
              "/* Estimator-specific style */\n",
              "\n",
              "/* Colorize estimator box */\n",
              "#sk-container-id-1 div.sk-estimator input.sk-toggleable__control:checked~label.sk-toggleable__label {\n",
              "  /* unfitted */\n",
              "  background-color: var(--sklearn-color-unfitted-level-2);\n",
              "}\n",
              "\n",
              "#sk-container-id-1 div.sk-estimator.fitted input.sk-toggleable__control:checked~label.sk-toggleable__label {\n",
              "  /* fitted */\n",
              "  background-color: var(--sklearn-color-fitted-level-2);\n",
              "}\n",
              "\n",
              "#sk-container-id-1 div.sk-label label.sk-toggleable__label,\n",
              "#sk-container-id-1 div.sk-label label {\n",
              "  /* The background is the default theme color */\n",
              "  color: var(--sklearn-color-text-on-default-background);\n",
              "}\n",
              "\n",
              "/* On hover, darken the color of the background */\n",
              "#sk-container-id-1 div.sk-label:hover label.sk-toggleable__label {\n",
              "  color: var(--sklearn-color-text);\n",
              "  background-color: var(--sklearn-color-unfitted-level-2);\n",
              "}\n",
              "\n",
              "/* Label box, darken color on hover, fitted */\n",
              "#sk-container-id-1 div.sk-label.fitted:hover label.sk-toggleable__label.fitted {\n",
              "  color: var(--sklearn-color-text);\n",
              "  background-color: var(--sklearn-color-fitted-level-2);\n",
              "}\n",
              "\n",
              "/* Estimator label */\n",
              "\n",
              "#sk-container-id-1 div.sk-label label {\n",
              "  font-family: monospace;\n",
              "  font-weight: bold;\n",
              "  display: inline-block;\n",
              "  line-height: 1.2em;\n",
              "}\n",
              "\n",
              "#sk-container-id-1 div.sk-label-container {\n",
              "  text-align: center;\n",
              "}\n",
              "\n",
              "/* Estimator-specific */\n",
              "#sk-container-id-1 div.sk-estimator {\n",
              "  font-family: monospace;\n",
              "  border: 1px dotted var(--sklearn-color-border-box);\n",
              "  border-radius: 0.25em;\n",
              "  box-sizing: border-box;\n",
              "  margin-bottom: 0.5em;\n",
              "  /* unfitted */\n",
              "  background-color: var(--sklearn-color-unfitted-level-0);\n",
              "}\n",
              "\n",
              "#sk-container-id-1 div.sk-estimator.fitted {\n",
              "  /* fitted */\n",
              "  background-color: var(--sklearn-color-fitted-level-0);\n",
              "}\n",
              "\n",
              "/* on hover */\n",
              "#sk-container-id-1 div.sk-estimator:hover {\n",
              "  /* unfitted */\n",
              "  background-color: var(--sklearn-color-unfitted-level-2);\n",
              "}\n",
              "\n",
              "#sk-container-id-1 div.sk-estimator.fitted:hover {\n",
              "  /* fitted */\n",
              "  background-color: var(--sklearn-color-fitted-level-2);\n",
              "}\n",
              "\n",
              "/* Specification for estimator info (e.g. \"i\" and \"?\") */\n",
              "\n",
              "/* Common style for \"i\" and \"?\" */\n",
              "\n",
              ".sk-estimator-doc-link,\n",
              "a:link.sk-estimator-doc-link,\n",
              "a:visited.sk-estimator-doc-link {\n",
              "  float: right;\n",
              "  font-size: smaller;\n",
              "  line-height: 1em;\n",
              "  font-family: monospace;\n",
              "  background-color: var(--sklearn-color-background);\n",
              "  border-radius: 1em;\n",
              "  height: 1em;\n",
              "  width: 1em;\n",
              "  text-decoration: none !important;\n",
              "  margin-left: 0.5em;\n",
              "  text-align: center;\n",
              "  /* unfitted */\n",
              "  border: var(--sklearn-color-unfitted-level-1) 1pt solid;\n",
              "  color: var(--sklearn-color-unfitted-level-1);\n",
              "}\n",
              "\n",
              ".sk-estimator-doc-link.fitted,\n",
              "a:link.sk-estimator-doc-link.fitted,\n",
              "a:visited.sk-estimator-doc-link.fitted {\n",
              "  /* fitted */\n",
              "  border: var(--sklearn-color-fitted-level-1) 1pt solid;\n",
              "  color: var(--sklearn-color-fitted-level-1);\n",
              "}\n",
              "\n",
              "/* On hover */\n",
              "div.sk-estimator:hover .sk-estimator-doc-link:hover,\n",
              ".sk-estimator-doc-link:hover,\n",
              "div.sk-label-container:hover .sk-estimator-doc-link:hover,\n",
              ".sk-estimator-doc-link:hover {\n",
              "  /* unfitted */\n",
              "  background-color: var(--sklearn-color-unfitted-level-3);\n",
              "  color: var(--sklearn-color-background);\n",
              "  text-decoration: none;\n",
              "}\n",
              "\n",
              "div.sk-estimator.fitted:hover .sk-estimator-doc-link.fitted:hover,\n",
              ".sk-estimator-doc-link.fitted:hover,\n",
              "div.sk-label-container:hover .sk-estimator-doc-link.fitted:hover,\n",
              ".sk-estimator-doc-link.fitted:hover {\n",
              "  /* fitted */\n",
              "  background-color: var(--sklearn-color-fitted-level-3);\n",
              "  color: var(--sklearn-color-background);\n",
              "  text-decoration: none;\n",
              "}\n",
              "\n",
              "/* Span, style for the box shown on hovering the info icon */\n",
              ".sk-estimator-doc-link span {\n",
              "  display: none;\n",
              "  z-index: 9999;\n",
              "  position: relative;\n",
              "  font-weight: normal;\n",
              "  right: .2ex;\n",
              "  padding: .5ex;\n",
              "  margin: .5ex;\n",
              "  width: min-content;\n",
              "  min-width: 20ex;\n",
              "  max-width: 50ex;\n",
              "  color: var(--sklearn-color-text);\n",
              "  box-shadow: 2pt 2pt 4pt #999;\n",
              "  /* unfitted */\n",
              "  background: var(--sklearn-color-unfitted-level-0);\n",
              "  border: .5pt solid var(--sklearn-color-unfitted-level-3);\n",
              "}\n",
              "\n",
              ".sk-estimator-doc-link.fitted span {\n",
              "  /* fitted */\n",
              "  background: var(--sklearn-color-fitted-level-0);\n",
              "  border: var(--sklearn-color-fitted-level-3);\n",
              "}\n",
              "\n",
              ".sk-estimator-doc-link:hover span {\n",
              "  display: block;\n",
              "}\n",
              "\n",
              "/* \"?\"-specific style due to the `<a>` HTML tag */\n",
              "\n",
              "#sk-container-id-1 a.estimator_doc_link {\n",
              "  float: right;\n",
              "  font-size: 1rem;\n",
              "  line-height: 1em;\n",
              "  font-family: monospace;\n",
              "  background-color: var(--sklearn-color-background);\n",
              "  border-radius: 1rem;\n",
              "  height: 1rem;\n",
              "  width: 1rem;\n",
              "  text-decoration: none;\n",
              "  /* unfitted */\n",
              "  color: var(--sklearn-color-unfitted-level-1);\n",
              "  border: var(--sklearn-color-unfitted-level-1) 1pt solid;\n",
              "}\n",
              "\n",
              "#sk-container-id-1 a.estimator_doc_link.fitted {\n",
              "  /* fitted */\n",
              "  border: var(--sklearn-color-fitted-level-1) 1pt solid;\n",
              "  color: var(--sklearn-color-fitted-level-1);\n",
              "}\n",
              "\n",
              "/* On hover */\n",
              "#sk-container-id-1 a.estimator_doc_link:hover {\n",
              "  /* unfitted */\n",
              "  background-color: var(--sklearn-color-unfitted-level-3);\n",
              "  color: var(--sklearn-color-background);\n",
              "  text-decoration: none;\n",
              "}\n",
              "\n",
              "#sk-container-id-1 a.estimator_doc_link.fitted:hover {\n",
              "  /* fitted */\n",
              "  background-color: var(--sklearn-color-fitted-level-3);\n",
              "}\n",
              "</style><div id=\"sk-container-id-1\" class=\"sk-top-container\"><div class=\"sk-text-repr-fallback\"><pre>LogisticRegression(class_weight=&#x27;balanced&#x27;, max_iter=1000,\n",
              "                   multi_class=&#x27;multinomial&#x27;, random_state=42)</pre><b>In a Jupyter environment, please rerun this cell to show the HTML representation or trust the notebook. <br />On GitHub, the HTML representation is unable to render, please try loading this page with nbviewer.org.</b></div><div class=\"sk-container\" hidden><div class=\"sk-item\"><div class=\"sk-estimator fitted sk-toggleable\"><input class=\"sk-toggleable__control sk-hidden--visually\" id=\"sk-estimator-id-1\" type=\"checkbox\" checked><label for=\"sk-estimator-id-1\" class=\"sk-toggleable__label fitted sk-toggleable__label-arrow\"><div><div>LogisticRegression</div></div><div><a class=\"sk-estimator-doc-link fitted\" rel=\"noreferrer\" target=\"_blank\" href=\"https://scikit-learn.org/1.6/modules/generated/sklearn.linear_model.LogisticRegression.html\">?<span>Documentation for LogisticRegression</span></a><span class=\"sk-estimator-doc-link fitted\">i<span>Fitted</span></span></div></label><div class=\"sk-toggleable__content fitted\"><pre>LogisticRegression(class_weight=&#x27;balanced&#x27;, max_iter=1000,\n",
              "                   multi_class=&#x27;multinomial&#x27;, random_state=42)</pre></div> </div></div></div></div>"
            ]
          },
          "metadata": {},
          "execution_count": 36
        }
      ]
    },
    {
      "cell_type": "code",
      "source": [
        "def predecir_resultado_partido_lr(nombre_local, nombre_visitante):\n",
        "    try:\n",
        "        df_pred = crear_df_prediccion(nombre_local, nombre_visitante, equipos_df, df_stats_equipos, X_real.columns)\n",
        "    except ValueError as e:\n",
        "        return f\"Error: {e}\"\n",
        "\n",
        "    pred = modelo_lr_real.predict(df_pred)[0]\n",
        "    resultado = {0: 'Empate', 1: 'Gana Local', 2: 'Gana Visitante'}\n",
        "    return f\"Resultado predicho (Regresión Logística): {resultado[pred]}\""
      ],
      "metadata": {
        "id": "Az1dr7Ar4raD"
      },
      "execution_count": 37,
      "outputs": []
    },
    {
      "cell_type": "code",
      "source": [
        "def predecir_resultado_interactivo_modelos():\n",
        "    equipos = sorted(equipos_df['Equipo'].unique())\n",
        "\n",
        "    dropdown_local = widgets.Dropdown(options=equipos, description='Local:')\n",
        "    dropdown_visitante = widgets.Dropdown(options=equipos, description='Visitante:')\n",
        "    dropdown_modelo = widgets.Dropdown(options=['Random Forest', 'Regresión Logística'], description='Modelo:')\n",
        "    button = widgets.Button(description=\"Predecir Resultado\")\n",
        "    output = widgets.Output()\n",
        "\n",
        "    def on_button_clicked(b):\n",
        "        with output:\n",
        "            output.clear_output()\n",
        "            local = dropdown_local.value\n",
        "            visitante = dropdown_visitante.value\n",
        "            modelo = dropdown_modelo.value\n",
        "\n",
        "            if modelo == 'Random Forest':\n",
        "                resultado = predecir_resultado_partido(local, visitante)\n",
        "            else:\n",
        "                resultado = predecir_resultado_partido_lr(local, visitante)\n",
        "\n",
        "            print(resultado)\n",
        "\n",
        "    button.on_click(on_button_clicked)\n",
        "    display(dropdown_local, dropdown_visitante, dropdown_modelo, button, output)"
      ],
      "metadata": {
        "id": "Rh3Rr1Y14vgV"
      },
      "execution_count": 38,
      "outputs": []
    },
    {
      "cell_type": "code",
      "source": [
        "predecir_resultado_interactivo_modelos()"
      ],
      "metadata": {
        "colab": {
          "base_uri": "https://localhost:8080/",
          "height": 158,
          "referenced_widgets": [
            "3603b996c4a54052bf671fe0d8a6947f",
            "2c0822f5c1aa4f66950986bcfcfe715c",
            "6bd4d9ea39c341aa853ec86cd6025158",
            "8c7b14879cb849e68baca1739b4454c0",
            "32f20ec5e86c4a488ad619c5c2883e6b",
            "b441c552cf024126aeeb8fbfe481607f",
            "a3e580767cd84526b53c58e3dc6c14f1",
            "c13d09c78dbf4cbcb695463ff46d7e84",
            "48e0c8fab7a94aaf9f5c7f695e80ede5",
            "973a7c48b25349f887c627eb88fa2eaf",
            "668cc394413e4b09bbd09d42706f09f5",
            "7dfc0da8db78414799f110d898aa785c",
            "573d692832e945be9d906d19a885e2a4",
            "9188c168bc1449718ce7aadac7b052c5"
          ]
        },
        "collapsed": true,
        "id": "F7qtEvOn5MUl",
        "outputId": "04dd9656-6b8d-4003-ab89-2ce3bd034c0e"
      },
      "execution_count": 39,
      "outputs": [
        {
          "output_type": "display_data",
          "data": {
            "text/plain": [
              "Dropdown(description='Local:', options=('Arsenal', 'Aston Villa', 'Birmingham', 'Blackburn', 'Blackpool', 'Bol…"
            ],
            "application/vnd.jupyter.widget-view+json": {
              "version_major": 2,
              "version_minor": 0,
              "model_id": "3603b996c4a54052bf671fe0d8a6947f"
            }
          },
          "metadata": {}
        },
        {
          "output_type": "display_data",
          "data": {
            "text/plain": [
              "Dropdown(description='Visitante:', options=('Arsenal', 'Aston Villa', 'Birmingham', 'Blackburn', 'Blackpool', …"
            ],
            "application/vnd.jupyter.widget-view+json": {
              "version_major": 2,
              "version_minor": 0,
              "model_id": "8c7b14879cb849e68baca1739b4454c0"
            }
          },
          "metadata": {}
        },
        {
          "output_type": "display_data",
          "data": {
            "text/plain": [
              "Dropdown(description='Modelo:', options=('Random Forest', 'Regresión Logística'), value='Random Forest')"
            ],
            "application/vnd.jupyter.widget-view+json": {
              "version_major": 2,
              "version_minor": 0,
              "model_id": "a3e580767cd84526b53c58e3dc6c14f1"
            }
          },
          "metadata": {}
        },
        {
          "output_type": "display_data",
          "data": {
            "text/plain": [
              "Button(description='Predecir Resultado', style=ButtonStyle())"
            ],
            "application/vnd.jupyter.widget-view+json": {
              "version_major": 2,
              "version_minor": 0,
              "model_id": "973a7c48b25349f887c627eb88fa2eaf"
            }
          },
          "metadata": {}
        },
        {
          "output_type": "display_data",
          "data": {
            "text/plain": [
              "Output()"
            ],
            "application/vnd.jupyter.widget-view+json": {
              "version_major": 2,
              "version_minor": 0,
              "model_id": "573d692832e945be9d906d19a885e2a4"
            }
          },
          "metadata": {}
        }
      ]
    },
    {
      "cell_type": "code",
      "source": [
        "from sklearn.metrics import accuracy_score, f1_score, classification_report, confusion_matrix\n",
        "import seaborn as sns\n",
        "import matplotlib.pyplot as plt\n",
        "\n",
        "# Predicción sobre test set\n",
        "y_pred = modelo_lr_real.predict(X_test)\n",
        "\n",
        "# Métricas principales\n",
        "acc = accuracy_score(y_test, y_pred)\n",
        "f1 = f1_score(y_test, y_pred, average='weighted')  # Puedes usar 'macro', 'micro', o 'weighted'\n",
        "\n",
        "print(f\"Accuracy: {acc:.4f}\")\n",
        "print(f\"F1 Score (weighted): {f1:.4f}\")\n",
        "print(\"\\nReporte de clasificación:\\n\")\n",
        "print(classification_report(y_test, y_pred))\n",
        "plt.show()"
      ],
      "metadata": {
        "colab": {
          "base_uri": "https://localhost:8080/"
        },
        "collapsed": true,
        "id": "-3yniF4o5t2s",
        "outputId": "81cdd657-b974-4c7c-c03c-09b213203b2c"
      },
      "execution_count": 42,
      "outputs": [
        {
          "output_type": "stream",
          "name": "stdout",
          "text": [
            "Accuracy: 0.4957\n",
            "F1 Score (weighted): 0.4868\n",
            "\n",
            "Reporte de clasificación:\n",
            "\n",
            "              precision    recall  f1-score   support\n",
            "\n",
            "           0       0.32      0.22      0.26       474\n",
            "           1       0.62      0.56      0.59       863\n",
            "           2       0.44      0.63      0.52       539\n",
            "\n",
            "    accuracy                           0.50      1876\n",
            "   macro avg       0.46      0.47      0.46      1876\n",
            "weighted avg       0.49      0.50      0.49      1876\n",
            "\n"
          ]
        }
      ]
    },
    {
      "cell_type": "markdown",
      "source": [
        "# Modelo XGBoost\n"
      ],
      "metadata": {
        "id": "WWs7Ts3s9Wg_"
      }
    },
    {
      "cell_type": "code",
      "source": [
        "!pip install xgboost ipywidgets scikit-learn pandas"
      ],
      "metadata": {
        "collapsed": true,
        "colab": {
          "base_uri": "https://localhost:8080/"
        },
        "id": "Qw7vxrSq9V09",
        "outputId": "2110428e-8d31-498e-e72d-8add7909ae2a"
      },
      "execution_count": 62,
      "outputs": [
        {
          "output_type": "stream",
          "name": "stdout",
          "text": [
            "Requirement already satisfied: xgboost in /usr/local/lib/python3.11/dist-packages (2.1.4)\n",
            "Requirement already satisfied: ipywidgets in /usr/local/lib/python3.11/dist-packages (7.7.1)\n",
            "Requirement already satisfied: scikit-learn in /usr/local/lib/python3.11/dist-packages (1.6.1)\n",
            "Requirement already satisfied: pandas in /usr/local/lib/python3.11/dist-packages (2.2.2)\n",
            "Requirement already satisfied: numpy in /usr/local/lib/python3.11/dist-packages (from xgboost) (2.0.2)\n",
            "Requirement already satisfied: nvidia-nccl-cu12 in /usr/local/lib/python3.11/dist-packages (from xgboost) (2.21.5)\n",
            "Requirement already satisfied: scipy in /usr/local/lib/python3.11/dist-packages (from xgboost) (1.15.3)\n",
            "Requirement already satisfied: ipykernel>=4.5.1 in /usr/local/lib/python3.11/dist-packages (from ipywidgets) (6.17.1)\n",
            "Requirement already satisfied: ipython-genutils~=0.2.0 in /usr/local/lib/python3.11/dist-packages (from ipywidgets) (0.2.0)\n",
            "Requirement already satisfied: traitlets>=4.3.1 in /usr/local/lib/python3.11/dist-packages (from ipywidgets) (5.7.1)\n",
            "Requirement already satisfied: widgetsnbextension~=3.6.0 in /usr/local/lib/python3.11/dist-packages (from ipywidgets) (3.6.10)\n",
            "Requirement already satisfied: ipython>=4.0.0 in /usr/local/lib/python3.11/dist-packages (from ipywidgets) (7.34.0)\n",
            "Requirement already satisfied: jupyterlab-widgets>=1.0.0 in /usr/local/lib/python3.11/dist-packages (from ipywidgets) (3.0.15)\n",
            "Requirement already satisfied: joblib>=1.2.0 in /usr/local/lib/python3.11/dist-packages (from scikit-learn) (1.5.1)\n",
            "Requirement already satisfied: threadpoolctl>=3.1.0 in /usr/local/lib/python3.11/dist-packages (from scikit-learn) (3.6.0)\n",
            "Requirement already satisfied: python-dateutil>=2.8.2 in /usr/local/lib/python3.11/dist-packages (from pandas) (2.9.0.post0)\n",
            "Requirement already satisfied: pytz>=2020.1 in /usr/local/lib/python3.11/dist-packages (from pandas) (2025.2)\n",
            "Requirement already satisfied: tzdata>=2022.7 in /usr/local/lib/python3.11/dist-packages (from pandas) (2025.2)\n",
            "Requirement already satisfied: debugpy>=1.0 in /usr/local/lib/python3.11/dist-packages (from ipykernel>=4.5.1->ipywidgets) (1.8.0)\n",
            "Requirement already satisfied: jupyter-client>=6.1.12 in /usr/local/lib/python3.11/dist-packages (from ipykernel>=4.5.1->ipywidgets) (6.1.12)\n",
            "Requirement already satisfied: matplotlib-inline>=0.1 in /usr/local/lib/python3.11/dist-packages (from ipykernel>=4.5.1->ipywidgets) (0.1.7)\n",
            "Requirement already satisfied: nest-asyncio in /usr/local/lib/python3.11/dist-packages (from ipykernel>=4.5.1->ipywidgets) (1.6.0)\n",
            "Requirement already satisfied: packaging in /usr/local/lib/python3.11/dist-packages (from ipykernel>=4.5.1->ipywidgets) (24.2)\n",
            "Requirement already satisfied: psutil in /usr/local/lib/python3.11/dist-packages (from ipykernel>=4.5.1->ipywidgets) (5.9.5)\n",
            "Requirement already satisfied: pyzmq>=17 in /usr/local/lib/python3.11/dist-packages (from ipykernel>=4.5.1->ipywidgets) (24.0.1)\n",
            "Requirement already satisfied: tornado>=6.1 in /usr/local/lib/python3.11/dist-packages (from ipykernel>=4.5.1->ipywidgets) (6.4.2)\n",
            "Requirement already satisfied: setuptools>=18.5 in /usr/local/lib/python3.11/dist-packages (from ipython>=4.0.0->ipywidgets) (75.2.0)\n",
            "Requirement already satisfied: jedi>=0.16 in /usr/local/lib/python3.11/dist-packages (from ipython>=4.0.0->ipywidgets) (0.19.2)\n",
            "Requirement already satisfied: decorator in /usr/local/lib/python3.11/dist-packages (from ipython>=4.0.0->ipywidgets) (4.4.2)\n",
            "Requirement already satisfied: pickleshare in /usr/local/lib/python3.11/dist-packages (from ipython>=4.0.0->ipywidgets) (0.7.5)\n",
            "Requirement already satisfied: prompt-toolkit!=3.0.0,!=3.0.1,<3.1.0,>=2.0.0 in /usr/local/lib/python3.11/dist-packages (from ipython>=4.0.0->ipywidgets) (3.0.51)\n",
            "Requirement already satisfied: pygments in /usr/local/lib/python3.11/dist-packages (from ipython>=4.0.0->ipywidgets) (2.19.2)\n",
            "Requirement already satisfied: backcall in /usr/local/lib/python3.11/dist-packages (from ipython>=4.0.0->ipywidgets) (0.2.0)\n",
            "Requirement already satisfied: pexpect>4.3 in /usr/local/lib/python3.11/dist-packages (from ipython>=4.0.0->ipywidgets) (4.9.0)\n",
            "Requirement already satisfied: six>=1.5 in /usr/local/lib/python3.11/dist-packages (from python-dateutil>=2.8.2->pandas) (1.17.0)\n",
            "Requirement already satisfied: notebook>=4.4.1 in /usr/local/lib/python3.11/dist-packages (from widgetsnbextension~=3.6.0->ipywidgets) (6.5.7)\n",
            "Requirement already satisfied: parso<0.9.0,>=0.8.4 in /usr/local/lib/python3.11/dist-packages (from jedi>=0.16->ipython>=4.0.0->ipywidgets) (0.8.4)\n",
            "Requirement already satisfied: jupyter-core>=4.6.0 in /usr/local/lib/python3.11/dist-packages (from jupyter-client>=6.1.12->ipykernel>=4.5.1->ipywidgets) (5.8.1)\n",
            "Requirement already satisfied: jinja2 in /usr/local/lib/python3.11/dist-packages (from notebook>=4.4.1->widgetsnbextension~=3.6.0->ipywidgets) (3.1.6)\n",
            "Requirement already satisfied: argon2-cffi in /usr/local/lib/python3.11/dist-packages (from notebook>=4.4.1->widgetsnbextension~=3.6.0->ipywidgets) (25.1.0)\n",
            "Requirement already satisfied: nbformat in /usr/local/lib/python3.11/dist-packages (from notebook>=4.4.1->widgetsnbextension~=3.6.0->ipywidgets) (5.10.4)\n",
            "Requirement already satisfied: nbconvert>=5 in /usr/local/lib/python3.11/dist-packages (from notebook>=4.4.1->widgetsnbextension~=3.6.0->ipywidgets) (7.16.6)\n",
            "Requirement already satisfied: Send2Trash>=1.8.0 in /usr/local/lib/python3.11/dist-packages (from notebook>=4.4.1->widgetsnbextension~=3.6.0->ipywidgets) (1.8.3)\n",
            "Requirement already satisfied: terminado>=0.8.3 in /usr/local/lib/python3.11/dist-packages (from notebook>=4.4.1->widgetsnbextension~=3.6.0->ipywidgets) (0.18.1)\n",
            "Requirement already satisfied: prometheus-client in /usr/local/lib/python3.11/dist-packages (from notebook>=4.4.1->widgetsnbextension~=3.6.0->ipywidgets) (0.22.1)\n",
            "Requirement already satisfied: nbclassic>=0.4.7 in /usr/local/lib/python3.11/dist-packages (from notebook>=4.4.1->widgetsnbextension~=3.6.0->ipywidgets) (1.3.1)\n",
            "Requirement already satisfied: ptyprocess>=0.5 in /usr/local/lib/python3.11/dist-packages (from pexpect>4.3->ipython>=4.0.0->ipywidgets) (0.7.0)\n",
            "Requirement already satisfied: wcwidth in /usr/local/lib/python3.11/dist-packages (from prompt-toolkit!=3.0.0,!=3.0.1,<3.1.0,>=2.0.0->ipython>=4.0.0->ipywidgets) (0.2.13)\n",
            "Requirement already satisfied: platformdirs>=2.5 in /usr/local/lib/python3.11/dist-packages (from jupyter-core>=4.6.0->jupyter-client>=6.1.12->ipykernel>=4.5.1->ipywidgets) (4.3.8)\n",
            "Requirement already satisfied: notebook-shim>=0.2.3 in /usr/local/lib/python3.11/dist-packages (from nbclassic>=0.4.7->notebook>=4.4.1->widgetsnbextension~=3.6.0->ipywidgets) (0.2.4)\n",
            "Requirement already satisfied: beautifulsoup4 in /usr/local/lib/python3.11/dist-packages (from nbconvert>=5->notebook>=4.4.1->widgetsnbextension~=3.6.0->ipywidgets) (4.13.4)\n",
            "Requirement already satisfied: bleach!=5.0.0 in /usr/local/lib/python3.11/dist-packages (from bleach[css]!=5.0.0->nbconvert>=5->notebook>=4.4.1->widgetsnbextension~=3.6.0->ipywidgets) (6.2.0)\n",
            "Requirement already satisfied: defusedxml in /usr/local/lib/python3.11/dist-packages (from nbconvert>=5->notebook>=4.4.1->widgetsnbextension~=3.6.0->ipywidgets) (0.7.1)\n",
            "Requirement already satisfied: jupyterlab-pygments in /usr/local/lib/python3.11/dist-packages (from nbconvert>=5->notebook>=4.4.1->widgetsnbextension~=3.6.0->ipywidgets) (0.3.0)\n",
            "Requirement already satisfied: markupsafe>=2.0 in /usr/local/lib/python3.11/dist-packages (from nbconvert>=5->notebook>=4.4.1->widgetsnbextension~=3.6.0->ipywidgets) (3.0.2)\n",
            "Requirement already satisfied: mistune<4,>=2.0.3 in /usr/local/lib/python3.11/dist-packages (from nbconvert>=5->notebook>=4.4.1->widgetsnbextension~=3.6.0->ipywidgets) (3.1.3)\n",
            "Requirement already satisfied: nbclient>=0.5.0 in /usr/local/lib/python3.11/dist-packages (from nbconvert>=5->notebook>=4.4.1->widgetsnbextension~=3.6.0->ipywidgets) (0.10.2)\n",
            "Requirement already satisfied: pandocfilters>=1.4.1 in /usr/local/lib/python3.11/dist-packages (from nbconvert>=5->notebook>=4.4.1->widgetsnbextension~=3.6.0->ipywidgets) (1.5.1)\n",
            "Requirement already satisfied: fastjsonschema>=2.15 in /usr/local/lib/python3.11/dist-packages (from nbformat->notebook>=4.4.1->widgetsnbextension~=3.6.0->ipywidgets) (2.21.1)\n",
            "Requirement already satisfied: jsonschema>=2.6 in /usr/local/lib/python3.11/dist-packages (from nbformat->notebook>=4.4.1->widgetsnbextension~=3.6.0->ipywidgets) (4.24.0)\n",
            "Requirement already satisfied: argon2-cffi-bindings in /usr/local/lib/python3.11/dist-packages (from argon2-cffi->notebook>=4.4.1->widgetsnbextension~=3.6.0->ipywidgets) (21.2.0)\n",
            "Requirement already satisfied: webencodings in /usr/local/lib/python3.11/dist-packages (from bleach!=5.0.0->bleach[css]!=5.0.0->nbconvert>=5->notebook>=4.4.1->widgetsnbextension~=3.6.0->ipywidgets) (0.5.1)\n",
            "Requirement already satisfied: tinycss2<1.5,>=1.1.0 in /usr/local/lib/python3.11/dist-packages (from bleach[css]!=5.0.0->nbconvert>=5->notebook>=4.4.1->widgetsnbextension~=3.6.0->ipywidgets) (1.4.0)\n",
            "Requirement already satisfied: attrs>=22.2.0 in /usr/local/lib/python3.11/dist-packages (from jsonschema>=2.6->nbformat->notebook>=4.4.1->widgetsnbextension~=3.6.0->ipywidgets) (25.3.0)\n",
            "Requirement already satisfied: jsonschema-specifications>=2023.03.6 in /usr/local/lib/python3.11/dist-packages (from jsonschema>=2.6->nbformat->notebook>=4.4.1->widgetsnbextension~=3.6.0->ipywidgets) (2025.4.1)\n",
            "Requirement already satisfied: referencing>=0.28.4 in /usr/local/lib/python3.11/dist-packages (from jsonschema>=2.6->nbformat->notebook>=4.4.1->widgetsnbextension~=3.6.0->ipywidgets) (0.36.2)\n",
            "Requirement already satisfied: rpds-py>=0.7.1 in /usr/local/lib/python3.11/dist-packages (from jsonschema>=2.6->nbformat->notebook>=4.4.1->widgetsnbextension~=3.6.0->ipywidgets) (0.26.0)\n",
            "Requirement already satisfied: jupyter-server<3,>=1.8 in /usr/local/lib/python3.11/dist-packages (from notebook-shim>=0.2.3->nbclassic>=0.4.7->notebook>=4.4.1->widgetsnbextension~=3.6.0->ipywidgets) (1.16.0)\n",
            "Requirement already satisfied: cffi>=1.0.1 in /usr/local/lib/python3.11/dist-packages (from argon2-cffi-bindings->argon2-cffi->notebook>=4.4.1->widgetsnbextension~=3.6.0->ipywidgets) (1.17.1)\n",
            "Requirement already satisfied: soupsieve>1.2 in /usr/local/lib/python3.11/dist-packages (from beautifulsoup4->nbconvert>=5->notebook>=4.4.1->widgetsnbextension~=3.6.0->ipywidgets) (2.7)\n",
            "Requirement already satisfied: typing-extensions>=4.0.0 in /usr/local/lib/python3.11/dist-packages (from beautifulsoup4->nbconvert>=5->notebook>=4.4.1->widgetsnbextension~=3.6.0->ipywidgets) (4.14.1)\n",
            "Requirement already satisfied: pycparser in /usr/local/lib/python3.11/dist-packages (from cffi>=1.0.1->argon2-cffi-bindings->argon2-cffi->notebook>=4.4.1->widgetsnbextension~=3.6.0->ipywidgets) (2.22)\n",
            "Requirement already satisfied: anyio>=3.1.0 in /usr/local/lib/python3.11/dist-packages (from jupyter-server<3,>=1.8->notebook-shim>=0.2.3->nbclassic>=0.4.7->notebook>=4.4.1->widgetsnbextension~=3.6.0->ipywidgets) (4.9.0)\n",
            "Requirement already satisfied: websocket-client in /usr/local/lib/python3.11/dist-packages (from jupyter-server<3,>=1.8->notebook-shim>=0.2.3->nbclassic>=0.4.7->notebook>=4.4.1->widgetsnbextension~=3.6.0->ipywidgets) (1.8.0)\n",
            "Requirement already satisfied: idna>=2.8 in /usr/local/lib/python3.11/dist-packages (from anyio>=3.1.0->jupyter-server<3,>=1.8->notebook-shim>=0.2.3->nbclassic>=0.4.7->notebook>=4.4.1->widgetsnbextension~=3.6.0->ipywidgets) (3.10)\n",
            "Requirement already satisfied: sniffio>=1.1 in /usr/local/lib/python3.11/dist-packages (from anyio>=3.1.0->jupyter-server<3,>=1.8->notebook-shim>=0.2.3->nbclassic>=0.4.7->notebook>=4.4.1->widgetsnbextension~=3.6.0->ipywidgets) (1.3.1)\n"
          ]
        }
      ]
    },
    {
      "cell_type": "code",
      "source": [
        "# Importar las bibliotecas necesarias\n",
        "import pandas as pd\n",
        "import ipywidgets as widgets\n",
        "from IPython.display import display\n",
        "import xgboost as xgb\n",
        "from sklearn.ensemble import RandomForestClassifier\n",
        "from sklearn.linear_model import LogisticRegression\n",
        "from sklearn.model_selection import train_test_split\n",
        "from sklearn.preprocessing import StandardScaler\n",
        "\n",
        "# --- Asegúrate de que estas columnas estén bien definidas en tu dataframe ---\n",
        "columnas_features = [\n",
        "    'match_year', 'match_month', 'match_day', 'HomeTeamID', 'AwayTeamID',\n",
        "    'local_goles_favor', 'local_goles_contra', 'local_corners', 'local_precision_tiros',\n",
        "    'local_victorias', 'local_derrotas', 'local_amarillas', 'local_rojas',\n",
        "    'visit_goles_favor', 'visit_goles_contra', 'visit_corners', 'visit_precision_tiros',\n",
        "    'visit_victorias', 'visit_derrotas', 'visit_amarillas', 'visit_rojas'\n",
        "]\n",
        "\n",
        "# Definir target\n",
        "y = df_premier['FullTimeResult']\n",
        "X = df_premier[columnas_features]\n",
        "\n",
        "# --- Escalar los datos para la Regresión Logística ---\n",
        "scaler = StandardScaler()\n",
        "X_scaled = scaler.fit_transform(X)\n",
        "\n",
        "# --- Dividir los datos en entrenamiento y prueba ---\n",
        "X_train, X_test, y_train, y_test = train_test_split(X_scaled, y, test_size=0.2, random_state=42)\n",
        "\n",
        "# --- Entrenar los modelos ---\n",
        "# Modelo Random Forest\n",
        "modelo_rf = RandomForestClassifier(random_state=42)\n",
        "modelo_rf.fit(X_train, y_train)\n",
        "\n",
        "# Modelo XGBoost\n",
        "modelo_xgb = xgb.XGBClassifier(objective='multi:softmax', num_class=3, eval_metric='mlogloss')\n",
        "modelo_xgb.fit(X_train, y_train)\n",
        "\n",
        "# Modelo Regresión Logística\n",
        "modelo_lr = LogisticRegression(max_iter=10000, multi_class='ovr', solver='lbfgs')\n",
        "modelo_lr.fit(X_train, y_train)\n",
        "\n",
        "# --- Función para crear el DataFrame de predicción ---\n",
        "def crear_df_prediccion(nombre_local, nombre_visitante, equipos_df, df_stats_equipos, X_columns):\n",
        "    import pandas as pd\n",
        "\n",
        "    # Obtener IDs de los equipos\n",
        "    try:\n",
        "        id_local = equipos_df.loc[equipos_df['Equipo'] == nombre_local, 'EquipoID'].values[0]\n",
        "        id_visit = equipos_df.loc[equipos_df['Equipo'] == nombre_visitante, 'EquipoID'].values[0]\n",
        "    except IndexError:\n",
        "        raise ValueError(\"Uno de los equipos no fue encontrado.\")\n",
        "\n",
        "    # Estadísticas base para local y visitante\n",
        "    stats_local = df_stats_equipos[df_stats_equipos['EquipoID'] == id_local].copy()\n",
        "    stats_visit = df_stats_equipos[df_stats_equipos['EquipoID'] == id_visit].copy()\n",
        "\n",
        "    # Mapeo base -> columnas usadas en modelo (sin prefijo)\n",
        "    mapa_columnas = {\n",
        "        'prom_goles_favor': 'goles_favor',\n",
        "        'prom_goles_contra': 'goles_contra',\n",
        "        'prom_corners': 'corners',\n",
        "        'precision_tiros': 'precision_tiros',\n",
        "        'prom_victorias': 'victorias',\n",
        "        'prom_derrotas': 'derrotas',\n",
        "        'prom_amarillas': 'amarillas',\n",
        "        'prom_rojas': 'rojas'\n",
        "    }\n",
        "\n",
        "    def renombrar_cols(stats_df, prefijo):\n",
        "        nueva_cols = ['EquipoID']\n",
        "        for col in stats_df.columns:\n",
        "            if col == 'EquipoID':\n",
        "                continue\n",
        "            if col in mapa_columnas:\n",
        "                nueva_cols.append(f\"{prefijo}_{mapa_columnas[col]}\")\n",
        "            else:\n",
        "                nueva_cols.append(col)\n",
        "        stats_df.columns = nueva_cols\n",
        "        return stats_df\n",
        "\n",
        "    stats_local = renombrar_cols(stats_local, 'local')\n",
        "    stats_visit = renombrar_cols(stats_visit, 'visit')\n",
        "\n",
        "    # Crear DataFrame base para el partido con datos ficticios o reales según corresponda\n",
        "    datos_partido = {\n",
        "        'season_numeric': [20250],  # Ajusta este valor según tu dataset\n",
        "        'match_year': [2025],\n",
        "        'match_month': [8],\n",
        "        'match_day': [15],\n",
        "        'HomeTeamID': [id_local],\n",
        "        'AwayTeamID': [id_visit]\n",
        "    }\n",
        "    df_pred = pd.DataFrame(datos_partido)\n",
        "\n",
        "    # Unir las estadísticas locales y visitantes\n",
        "    df_pred = df_pred.merge(stats_local, left_on='HomeTeamID', right_on='EquipoID', how='left')\n",
        "    df_pred = df_pred.merge(stats_visit, left_on='AwayTeamID', right_on='EquipoID', how='left')\n",
        "    df_pred.drop(columns=['EquipoID_x', 'EquipoID_y'], inplace=True)\n",
        "\n",
        "    # Reordenar columnas para que coincidan con el modelo\n",
        "    df_pred = df_pred.reindex(columns=X_columns)\n",
        "\n",
        "    # Validar que no falten columnas\n",
        "    faltantes = set(X_columns) - set(df_pred.columns)\n",
        "    if len(faltantes) > 0:\n",
        "        raise ValueError(f\"Faltan columnas en el DataFrame de predicción: {faltantes}\")\n",
        "\n",
        "    return df_pred\n",
        "\n",
        "# --- Función para predecir el resultado ---\n",
        "def predecir_resultado(nombre_local, nombre_visitante, modelo, equipos_df, df_stats_equipos, X_columns):\n",
        "    try:\n",
        "        df_pred = crear_df_prediccion(nombre_local, nombre_visitante, equipos_df, df_stats_equipos, X_columns)\n",
        "    except ValueError as e:\n",
        "        return f\"Error: {e}\"\n",
        "\n",
        "    pred = modelo.predict(df_pred)[0]  # Predicción\n",
        "    resultado = {0: 'Empate', 1: 'Gana Local', 2: 'Gana Visitante'}\n",
        "    return f\"Resultado predicho (modelo {modelo.__class__.__name__}): {resultado[pred]}\"\n",
        "\n",
        "# --- Función de predicción interactiva ---\n",
        "def mostrar_predicciones_interactivas():\n",
        "    equipos = sorted(equipos_df['Equipo'].unique())\n",
        "\n",
        "    # Dropdowns para seleccionar los equipos\n",
        "    dropdown_local = widgets.Dropdown(options=equipos, description='Local:')\n",
        "    dropdown_visitante = widgets.Dropdown(options=equipos, description='Visitante:')\n",
        "\n",
        "    # Dropdown para seleccionar el modelo\n",
        "    dropdown_modelo = widgets.Dropdown(\n",
        "        options=['Random Forest', 'XGBoost', 'Regresión Logística'],\n",
        "        description='Modelo:',\n",
        "        disabled=False,\n",
        "    )\n",
        "\n",
        "    # Output para mostrar las predicciones\n",
        "    output = widgets.Output()\n",
        "\n",
        "    def on_button_clicked(b):\n",
        "        with output:\n",
        "            output.clear_output()\n",
        "            nombre_local = dropdown_local.value\n",
        "            nombre_visitante = dropdown_visitante.value\n",
        "            modelo_seleccionado = dropdown_modelo.value\n",
        "\n",
        "            # Seleccionar el modelo según la elección\n",
        "            if modelo_seleccionado == 'Random Forest':\n",
        "                resultado = predecir_resultado(nombre_local, nombre_visitante, modelo_rf, equipos_df, df_stats_equipos, X.columns)\n",
        "            elif modelo_seleccionado == 'XGBoost':\n",
        "                resultado = predecir_resultado(nombre_local, nombre_visitante, modelo_xgb, equipos_df, df_stats_equipos, X.columns)\n",
        "            elif modelo_seleccionado == 'Regresión Logística':\n",
        "                resultado = predecir_resultado(nombre_local, nombre_visitante, modelo_lr, equipos_df, df_stats_equipos, X.columns)\n",
        "\n",
        "            print(resultado)\n",
        "\n",
        "    # Botón para ejecutar la predicción y mostrar resultados\n",
        "    button = widgets.Button(description=\"Predecir Resultado\")\n",
        "    button.on_click(on_button_clicked)\n",
        "\n",
        "    # Mostrar los widgets\n",
        "    display(dropdown_local, dropdown_visitante, dropdown_modelo, button, output)\n",
        "\n",
        "# Ejecuta la función para mostrar la interfaz interactiva\n",
        "mostrar_predicciones_interactivas()\n"
      ],
      "metadata": {
        "colab": {
          "base_uri": "https://localhost:8080/",
          "height": 317,
          "referenced_widgets": [
            "5046bd5c38e74f8a96a4838d7bd32603",
            "912680c7d35d400face87004b6f72b20",
            "086ec5f691734a8aa533f2bcd2039612",
            "86a0e3bb69bb4c55a18de4c8181b7e6d",
            "040730d2832a4a5e8fc3f2a32470dd22",
            "e061f6a21ed14963b7a8459f998e04f9",
            "b7787c49c7b14a6f9319a417d6dcea37",
            "65e46b0287824092972a642f4fb65d75",
            "88c3c3c50ed1408483e2159a4e2934a3",
            "188f156859774aa3b77fcaabd5e36357",
            "0e3c152ef78c419dbba6018389321dbe",
            "a7b5331c0ac3408ebc29eccdb5d06069",
            "03bd2be2a01642f58781897e3ade86e6",
            "9f8b31f0eef84f69bda84b9db718485a"
          ]
        },
        "id": "QXdxonnRApk2",
        "outputId": "3ad03150-ac5b-4e8c-d951-19870164b92b"
      },
      "execution_count": 71,
      "outputs": [
        {
          "output_type": "stream",
          "name": "stderr",
          "text": [
            "/usr/local/lib/python3.11/dist-packages/sklearn/linear_model/_logistic.py:1256: FutureWarning:\n",
            "\n",
            "'multi_class' was deprecated in version 1.5 and will be removed in 1.7. Use OneVsRestClassifier(LogisticRegression(..)) instead. Leave it to its default value to avoid this warning.\n",
            "\n"
          ]
        },
        {
          "output_type": "display_data",
          "data": {
            "text/plain": [
              "Dropdown(description='Local:', options=('Arsenal', 'Aston Villa', 'Birmingham', 'Blackburn', 'Blackpool', 'Bol…"
            ],
            "application/vnd.jupyter.widget-view+json": {
              "version_major": 2,
              "version_minor": 0,
              "model_id": "5046bd5c38e74f8a96a4838d7bd32603"
            }
          },
          "metadata": {
            "application/vnd.jupyter.widget-view+json": {
              "colab": {
                "custom_widget_manager": {
                  "url": "https://ssl.gstatic.com/colaboratory-static/widgets/colab-cdn-widget-manager/2b70e893a8ba7c0f/manager.min.js"
                }
              }
            }
          }
        },
        {
          "output_type": "display_data",
          "data": {
            "text/plain": [
              "Dropdown(description='Visitante:', options=('Arsenal', 'Aston Villa', 'Birmingham', 'Blackburn', 'Blackpool', …"
            ],
            "application/vnd.jupyter.widget-view+json": {
              "version_major": 2,
              "version_minor": 0,
              "model_id": "86a0e3bb69bb4c55a18de4c8181b7e6d"
            }
          },
          "metadata": {
            "application/vnd.jupyter.widget-view+json": {
              "colab": {
                "custom_widget_manager": {
                  "url": "https://ssl.gstatic.com/colaboratory-static/widgets/colab-cdn-widget-manager/2b70e893a8ba7c0f/manager.min.js"
                }
              }
            }
          }
        },
        {
          "output_type": "display_data",
          "data": {
            "text/plain": [
              "Dropdown(description='Modelo:', options=('Random Forest', 'XGBoost', 'Regresión Logística'), value='Random For…"
            ],
            "application/vnd.jupyter.widget-view+json": {
              "version_major": 2,
              "version_minor": 0,
              "model_id": "b7787c49c7b14a6f9319a417d6dcea37"
            }
          },
          "metadata": {
            "application/vnd.jupyter.widget-view+json": {
              "colab": {
                "custom_widget_manager": {
                  "url": "https://ssl.gstatic.com/colaboratory-static/widgets/colab-cdn-widget-manager/2b70e893a8ba7c0f/manager.min.js"
                }
              }
            }
          }
        },
        {
          "output_type": "display_data",
          "data": {
            "text/plain": [
              "Button(description='Predecir Resultado', style=ButtonStyle())"
            ],
            "application/vnd.jupyter.widget-view+json": {
              "version_major": 2,
              "version_minor": 0,
              "model_id": "188f156859774aa3b77fcaabd5e36357"
            }
          },
          "metadata": {
            "application/vnd.jupyter.widget-view+json": {
              "colab": {
                "custom_widget_manager": {
                  "url": "https://ssl.gstatic.com/colaboratory-static/widgets/colab-cdn-widget-manager/2b70e893a8ba7c0f/manager.min.js"
                }
              }
            }
          }
        },
        {
          "output_type": "display_data",
          "data": {
            "text/plain": [
              "Output()"
            ],
            "application/vnd.jupyter.widget-view+json": {
              "version_major": 2,
              "version_minor": 0,
              "model_id": "03bd2be2a01642f58781897e3ade86e6"
            }
          },
          "metadata": {
            "application/vnd.jupyter.widget-view+json": {
              "colab": {
                "custom_widget_manager": {
                  "url": "https://ssl.gstatic.com/colaboratory-static/widgets/colab-cdn-widget-manager/2b70e893a8ba7c0f/manager.min.js"
                }
              }
            }
          }
        }
      ]
    }
  ]
}